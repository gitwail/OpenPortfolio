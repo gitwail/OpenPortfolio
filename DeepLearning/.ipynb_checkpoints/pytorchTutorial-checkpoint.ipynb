{
 "cells": [
  {
   "cell_type": "code",
   "execution_count": 42,
   "id": "8325695c-9e48-4d50-becc-c8a1ca6c9d40",
   "metadata": {},
   "outputs": [],
   "source": [
    "import torch \n",
    "import numpy as np"
   ]
  },
  {
   "cell_type": "code",
   "execution_count": 43,
   "id": "eaee2203-473b-45ea-9e52-19c669cb5468",
   "metadata": {},
   "outputs": [
    {
     "data": {
      "text/plain": [
       "array([[0.91736412, 0.72682601, 0.5621612 ],\n",
       "       [0.87849611, 0.2566823 , 0.33802378],\n",
       "       [0.74627576, 0.14445346, 0.76512126]])"
      ]
     },
     "execution_count": 43,
     "metadata": {},
     "output_type": "execute_result"
    }
   ],
   "source": [
    "a=np.random.random((3,3))\n",
    "a"
   ]
  },
  {
   "cell_type": "code",
   "execution_count": 44,
   "id": "8ca12461-d4b3-4a06-a8a9-2e660dca8a73",
   "metadata": {},
   "outputs": [
    {
     "data": {
      "text/plain": [
       "tensor([[0.9174, 0.7268, 0.5622],\n",
       "        [0.8785, 0.2567, 0.3380],\n",
       "        [0.7463, 0.1445, 0.7651]], dtype=torch.float64)"
      ]
     },
     "execution_count": 44,
     "metadata": {},
     "output_type": "execute_result"
    }
   ],
   "source": [
    "ta=torch.from_numpy(a)\n",
    "ta"
   ]
  },
  {
   "cell_type": "code",
   "execution_count": 45,
   "id": "6384313a-d8de-4bf9-bf60-fd8b918aa94e",
   "metadata": {},
   "outputs": [
    {
     "data": {
      "text/plain": [
       "torch.Size([3, 3])"
      ]
     },
     "execution_count": 45,
     "metadata": {},
     "output_type": "execute_result"
    }
   ],
   "source": [
    "ta.shape"
   ]
  },
  {
   "cell_type": "code",
   "execution_count": 46,
   "id": "b447be3a-d34c-464b-85ca-fd5365e3a93c",
   "metadata": {},
   "outputs": [
    {
     "data": {
      "text/plain": [
       "tensor(0.6059, dtype=torch.float64)"
      ]
     },
     "execution_count": 46,
     "metadata": {},
     "output_type": "execute_result"
    }
   ],
   "source": [
    "torch.dot(ta[:,1],ta[:,2])"
   ]
  },
  {
   "cell_type": "code",
   "execution_count": 47,
   "id": "4a4bca22-a3cc-4ebd-bebd-20d8681d40bf",
   "metadata": {},
   "outputs": [
    {
     "data": {
      "text/plain": [
       "tensor([[1, 1, 1],\n",
       "        [1, 1, 1],\n",
       "        [1, 1, 1]], dtype=torch.int32)"
      ]
     },
     "execution_count": 47,
     "metadata": {},
     "output_type": "execute_result"
    }
   ],
   "source": [
    "torch.ones_like(ta,dtype=torch.int32)"
   ]
  },
  {
   "cell_type": "code",
   "execution_count": 48,
   "id": "6e8b9f37-d348-48e9-8c48-c635acf4d7e4",
   "metadata": {},
   "outputs": [
    {
     "data": {
      "text/plain": [
       "tensor([[0.8035, 0.3813, 0.7860],\n",
       "        [0.1115, 0.2477, 0.6524],\n",
       "        [0.6057, 0.3725, 0.7980]])"
      ]
     },
     "execution_count": 48,
     "metadata": {},
     "output_type": "execute_result"
    }
   ],
   "source": [
    "torch.rand_like(ta,dtype=torch.float32)"
   ]
  },
  {
   "cell_type": "code",
   "execution_count": 49,
   "id": "76c9f396-91b8-4b46-a3cc-47e86799926a",
   "metadata": {},
   "outputs": [
    {
     "data": {
      "text/plain": [
       "tensor([[0.9174, 0.7268, 0.5622, 0.9174, 0.7268, 0.5622],\n",
       "        [0.8785, 0.2567, 0.3380, 0.8785, 0.2567, 0.3380],\n",
       "        [0.7463, 0.1445, 0.7651, 0.7463, 0.1445, 0.7651]], dtype=torch.float64)"
      ]
     },
     "execution_count": 49,
     "metadata": {},
     "output_type": "execute_result"
    }
   ],
   "source": [
    "torch.cat([ta,ta],axis=1)"
   ]
  },
  {
   "cell_type": "code",
   "execution_count": 50,
   "id": "990d7427-210e-43ea-91b1-6add05370df8",
   "metadata": {},
   "outputs": [
    {
     "data": {
      "text/plain": [
       "tensor([[[0.9174, 0.7268, 0.5622],\n",
       "         [0.8785, 0.2567, 0.3380],\n",
       "         [0.7463, 0.1445, 0.7651]],\n",
       "\n",
       "        [[0.9174, 0.7268, 0.5622],\n",
       "         [0.8785, 0.2567, 0.3380],\n",
       "         [0.7463, 0.1445, 0.7651]]], dtype=torch.float64)"
      ]
     },
     "execution_count": 50,
     "metadata": {},
     "output_type": "execute_result"
    }
   ],
   "source": [
    "torch.stack([ta,ta])"
   ]
  },
  {
   "cell_type": "code",
   "execution_count": 51,
   "id": "b129b6e4-65ff-4441-abfe-e67a3664983c",
   "metadata": {},
   "outputs": [
    {
     "data": {
      "text/plain": [
       "torch.Size([2, 3, 3])"
      ]
     },
     "execution_count": 51,
     "metadata": {},
     "output_type": "execute_result"
    }
   ],
   "source": [
    "torch.stack([ta,ta],axis=0).shape"
   ]
  },
  {
   "cell_type": "code",
   "execution_count": 52,
   "id": "e1b76d40-d71d-421e-81ce-be005d951ba8",
   "metadata": {},
   "outputs": [],
   "source": [
    "\n",
    "a = torch.tensor([2., 3.], requires_grad=True)\n",
    "b = torch.tensor([6., 4.], requires_grad=True)"
   ]
  },
  {
   "cell_type": "code",
   "execution_count": 53,
   "id": "28a4cd8f-352a-4e22-b8fd-392910c7cad4",
   "metadata": {},
   "outputs": [],
   "source": [
    "Q = 3*a**3 - b**2"
   ]
  },
  {
   "cell_type": "code",
   "execution_count": 54,
   "id": "fccabd97-72eb-4c09-87f0-6eff10512bd9",
   "metadata": {},
   "outputs": [
    {
     "ename": "IndentationError",
     "evalue": "unexpected indent (642790403.py, line 2)",
     "output_type": "error",
     "traceback": [
      "\u001b[1;36m  Cell \u001b[1;32mIn[54], line 2\u001b[1;36m\u001b[0m\n\u001b[1;33m    Q.backward(gradient=external_grad)\u001b[0m\n\u001b[1;37m    ^\u001b[0m\n\u001b[1;31mIndentationError\u001b[0m\u001b[1;31m:\u001b[0m unexpected indent\n"
     ]
    }
   ],
   "source": [
    "external_grad = torch.tensor([1., 1.])\n",
    "Q.backward(gradient=external_grad)"
   ]
  },
  {
   "cell_type": "code",
   "execution_count": null,
   "id": "c54bf89d-96d0-4f80-85cf-ada07560743c",
   "metadata": {},
   "outputs": [],
   "source": [
    "a.grad"
   ]
  },
  {
   "cell_type": "markdown",
   "id": "e0808358-2b7f-4ccc-ae81-802d823266d6",
   "metadata": {},
   "source": [
    "## LSTM cell"
   ]
  },
  {
   "cell_type": "code",
   "execution_count": null,
   "id": "e23b90a5-d4f2-4beb-bd30-bfc04c1d7cf5",
   "metadata": {},
   "outputs": [],
   "source": [
    "seed = 42\n",
    "\n",
    "torch.manual_seed(seed)\n",
    "# input\n",
    "xt=torch.ones((1,3))\n",
    "# hidden layer\n",
    "ht_1=torch.zeros((1,4))\n",
    "\n",
    "# forget gate \n",
    "Wf=torch.rand((3, 7), requires_grad=True)\n",
    "bf=torch.rand((3,1),requires_grad=True)\n",
    "\n",
    "# input gate layer\n",
    "Wi=torch.rand((3, 7), requires_grad=True)\n",
    "bi=torch.rand((3,1),requires_grad=True)\n",
    "\n",
    "# candidate layer\n",
    "Wc=torch.rand((3, 7), requires_grad=True)\n",
    "bc=torch.rand((3,1),requires_grad=True)\n",
    "\n",
    "# cell state\n",
    "ct_1=torch.rand((3,1))"
   ]
  },
  {
   "cell_type": "code",
   "execution_count": null,
   "id": "945e33f0-6062-46cb-a7ec-82da82b3b4bc",
   "metadata": {},
   "outputs": [],
   "source": [
    "Xt=torch.concat([ht_1,xt],axis=1)\n",
    "bf.shape"
   ]
  },
  {
   "cell_type": "code",
   "execution_count": null,
   "id": "937a2c0d-e8a3-41be-ac0b-fb3fe16b15b6",
   "metadata": {},
   "outputs": [],
   "source": [
    "ft=torch.sigmoid((Wf@Xt.T)+bf)\n",
    "it=torch.sigmoid((Wi@Xt.T)+bi)\n",
    "c_tild=torch.tanh((Wi@Xt.T)+bi)"
   ]
  },
  {
   "cell_type": "code",
   "execution_count": null,
   "id": "ec55da47",
   "metadata": {},
   "outputs": [],
   "source": [
    "ct=(ft*ct_1)+(it*c_tild)"
   ]
  },
  {
   "cell_type": "code",
   "execution_count": null,
   "id": "315ca25f",
   "metadata": {},
   "outputs": [],
   "source": [
    "ct_1"
   ]
  },
  {
   "cell_type": "code",
   "execution_count": null,
   "id": "7bc78021",
   "metadata": {},
   "outputs": [],
   "source": [
    "ct"
   ]
  }
 ],
 "metadata": {
  "kernelspec": {
   "display_name": "Python 3 (ipykernel)",
   "language": "python",
   "name": "python3"
  },
  "language_info": {
   "codemirror_mode": {
    "name": "ipython",
    "version": 3
   },
   "file_extension": ".py",
   "mimetype": "text/x-python",
   "name": "python",
   "nbconvert_exporter": "python",
   "pygments_lexer": "ipython3",
   "version": "3.8.16"
  }
 },
 "nbformat": 4,
 "nbformat_minor": 5
}
