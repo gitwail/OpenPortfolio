{
 "cells": [
  {
   "cell_type": "code",
   "execution_count": 1,
   "id": "e9aa70b4-9b39-4c36-bbab-4b8057fa24ce",
   "metadata": {},
   "outputs": [],
   "source": [
    "agent=[0,0]"
   ]
  },
  {
   "cell_type": "code",
   "execution_count": 2,
   "id": "72abbba8-1c9a-4616-91bc-b6dcf57b7871",
   "metadata": {},
   "outputs": [],
   "source": [
    "x_agent,y_agent=agent"
   ]
  },
  {
   "cell_type": "code",
   "execution_count": 3,
   "id": "baa83087-cdaf-4bd0-a39b-554b6c073ec3",
   "metadata": {},
   "outputs": [
    {
     "data": {
      "text/plain": [
       "0"
      ]
     },
     "execution_count": 3,
     "metadata": {},
     "output_type": "execute_result"
    }
   ],
   "source": [
    "x_agent"
   ]
  },
  {
   "cell_type": "code",
   "execution_count": 4,
   "id": "346e0473-4f87-45a8-84dc-239f5ff71ec7",
   "metadata": {},
   "outputs": [],
   "source": [
    "goal=[0,0]"
   ]
  },
  {
   "cell_type": "code",
   "execution_count": 5,
   "id": "c6fcc6ab-7d1f-4a38-8230-7c2d89a273c0",
   "metadata": {},
   "outputs": [
    {
     "data": {
      "text/plain": [
       "True"
      ]
     },
     "execution_count": 5,
     "metadata": {},
     "output_type": "execute_result"
    }
   ],
   "source": [
    "agent==goal"
   ]
  },
  {
   "cell_type": "code",
   "execution_count": 6,
   "id": "70eab511-0792-48d3-b0b6-23d67914efc6",
   "metadata": {},
   "outputs": [],
   "source": [
    "observation_space = [[\"\" for _ in range(10)] for _ in range(10)]"
   ]
  },
  {
   "cell_type": "code",
   "execution_count": 7,
   "id": "43876214-eb2d-4f87-948d-2172a9bab971",
   "metadata": {},
   "outputs": [
    {
     "data": {
      "text/plain": [
       "[['', '', '', '', '', '', '', '', '', ''],\n",
       " ['', '', '', '', '', '', '', '', '', ''],\n",
       " ['', '', '', '', '', '', '', '', '', ''],\n",
       " ['', '', '', '', '', '', '', '', '', ''],\n",
       " ['', '', '', '', '', '', '', '', '', ''],\n",
       " ['', '', '', '', '', '', '', '', '', ''],\n",
       " ['', '', '', '', '', '', '', '', '', ''],\n",
       " ['', '', '', '', '', '', '', '', '', ''],\n",
       " ['', '', '', '', '', '', '', '', '', ''],\n",
       " ['', '', '', '', '', '', '', '', '', '']]"
      ]
     },
     "execution_count": 7,
     "metadata": {},
     "output_type": "execute_result"
    }
   ],
   "source": [
    "observation_space"
   ]
  },
  {
   "cell_type": "code",
   "execution_count": 8,
   "id": "0482314d-3f40-44b7-af24-358a19fa0dfd",
   "metadata": {},
   "outputs": [],
   "source": [
    "observation_space[0][0]='A'"
   ]
  },
  {
   "cell_type": "code",
   "execution_count": null,
   "id": "4b5c4e48",
   "metadata": {},
   "outputs": [],
   "source": []
  },
  {
   "cell_type": "code",
   "execution_count": 9,
   "id": "0d4eb4ad-4fa0-446c-a1d1-6ead41fb6ef9",
   "metadata": {},
   "outputs": [
    {
     "data": {
      "text/plain": [
       "[['A', '', '', '', '', '', '', '', '', ''],\n",
       " ['', '', '', '', '', '', '', '', '', ''],\n",
       " ['', '', '', '', '', '', '', '', '', ''],\n",
       " ['', '', '', '', '', '', '', '', '', ''],\n",
       " ['', '', '', '', '', '', '', '', '', ''],\n",
       " ['', '', '', '', '', '', '', '', '', ''],\n",
       " ['', '', '', '', '', '', '', '', '', ''],\n",
       " ['', '', '', '', '', '', '', '', '', ''],\n",
       " ['', '', '', '', '', '', '', '', '', ''],\n",
       " ['', '', '', '', '', '', '', '', '', '']]"
      ]
     },
     "execution_count": 9,
     "metadata": {},
     "output_type": "execute_result"
    }
   ],
   "source": [
    "observation_space"
   ]
  },
  {
   "cell_type": "code",
   "execution_count": 10,
   "id": "cdba639e-3d3e-4c7c-bec4-622e9b6dd602",
   "metadata": {},
   "outputs": [],
   "source": [
    "a,b=(1,2,3,4)[:2],(1,2,3,4)[2:]"
   ]
  },
  {
   "cell_type": "code",
   "execution_count": 11,
   "id": "2594f0f2-aaef-478a-97bb-6cbdb2ea7474",
   "metadata": {},
   "outputs": [],
   "source": [
    "d,k=a"
   ]
  },
  {
   "cell_type": "code",
   "execution_count": 12,
   "id": "e2ff9241-9cb9-461f-9f44-0ac4da6f7b30",
   "metadata": {},
   "outputs": [
    {
     "data": {
      "text/plain": [
       "1"
      ]
     },
     "execution_count": 12,
     "metadata": {},
     "output_type": "execute_result"
    }
   ],
   "source": [
    "d"
   ]
  },
  {
   "cell_type": "code",
   "execution_count": 22,
   "id": "bdb7275f-e3db-40bd-aae9-620eee455a9c",
   "metadata": {},
   "outputs": [],
   "source": [
    "a=(4,7,8,0)"
   ]
  },
  {
   "cell_type": "code",
   "execution_count": 21,
   "id": "65309d2b-5b75-446b-8dcc-983ac7c297ea",
   "metadata": {},
   "outputs": [
    {
     "data": {
      "text/plain": [
       "[[1, 1, 3, 4], [2, 4, 4, 4], [2, 2, 2, 2]]"
      ]
     },
     "execution_count": 21,
     "metadata": {},
     "output_type": "execute_result"
    }
   ],
   "source": [
    "a"
   ]
  },
  {
   "cell_type": "code",
   "execution_count": 20,
   "id": "9c22f169",
   "metadata": {},
   "outputs": [
    {
     "data": {
      "text/plain": [
       "2"
      ]
     },
     "execution_count": 20,
     "metadata": {},
     "output_type": "execute_result"
    }
   ],
   "source": [
    "a=[[1,1,3,4],[2,4,4,4],[2,2,2,2]]\n",
    "sum([i[0]==2 for i in a ])"
   ]
  },
  {
   "cell_type": "code",
   "execution_count": 23,
   "id": "60994b8c",
   "metadata": {},
   "outputs": [
    {
     "data": {
      "text/plain": [
       "(4, 7, 8, 0, 1)"
      ]
     },
     "execution_count": 23,
     "metadata": {},
     "output_type": "execute_result"
    }
   ],
   "source": [
    "a+(1,)"
   ]
  }
 ],
 "metadata": {
  "kernelspec": {
   "display_name": "Python 3 (ipykernel)",
   "language": "python",
   "name": "python3"
  },
  "language_info": {
   "codemirror_mode": {
    "name": "ipython",
    "version": 3
   },
   "file_extension": ".py",
   "mimetype": "text/x-python",
   "name": "python",
   "nbconvert_exporter": "python",
   "pygments_lexer": "ipython3",
   "version": "3.8.16"
  }
 },
 "nbformat": 4,
 "nbformat_minor": 5
}
