{
 "cells": [
  {
   "cell_type": "code",
   "execution_count": 104,
   "id": "5e361185",
   "metadata": {},
   "outputs": [],
   "source": [
    "from typing import List\n",
    "import time\n",
    "import random\n",
    "import numpy as np"
   ]
  },
  {
   "cell_type": "code",
   "execution_count": 117,
   "id": "15cce6d6",
   "metadata": {},
   "outputs": [],
   "source": [
    "def getMaxAdditionalDinersCount(N: int, K: int, M: int, S: List[int]) -> int:\n",
    "# we create a list of seats initialized with 0's\n",
    "# Start timing\n",
    "  start_time = time.time()\n",
    "  seats_vaccancy = np.zeros(N, dtype=int)\n",
    "  print(time.time() - start_time)  \n",
    "\n",
    "  seats_vaccancy[S]=1\n",
    "    \n",
    "  print(time.time() - start_time)  \n",
    "  diners_plus=0  \n",
    "  seats_vaccancy=list(seats_vaccancy)\n",
    "  for i in range(N):\n",
    "    right=0\n",
    "    left=0\n",
    "    respect=True  \n",
    "    \n",
    "    if seats_vaccancy[i]==1:\n",
    "        continue        \n",
    "    # see if seats respect distanciation \n",
    "    if i+K<N:\n",
    "      right= (seats_vaccancy[i+1:i+K+1]).__contains__(1)\n",
    "    else:\n",
    "      right=(seats_vaccancy[i+1:N]).__contains__(1)\n",
    "      \n",
    "    if i-K>0:\n",
    "      left=(seats_vaccancy[i-K:i]).__contains__(1)\n",
    "    else:\n",
    "      left=(seats_vaccancy[0:i]).__contains__(1)\n",
    "          \n",
    "    if left or right:\n",
    "      respect=False\n",
    "      \n",
    "    if respect:\n",
    "      seats_vaccancy[i]=1\n",
    "      diners_plus+=1\n",
    "      \n",
    "  print(time.time() - start_time)       \n",
    "    \n",
    "  return diners_plus"
   ]
  },
  {
   "cell_type": "code",
   "execution_count": 127,
   "id": "4233fab2",
   "metadata": {},
   "outputs": [],
   "source": [
    "N = 1000000\n",
    "K = 2\n",
    "M = 3\n",
    "S = [random.randint(1, N) for _ in range(N)]"
   ]
  },
  {
   "cell_type": "code",
   "execution_count": 118,
   "id": "65f58d61",
   "metadata": {},
   "outputs": [
    {
     "name": "stdout",
     "output_type": "stream",
     "text": [
      "0.0003845691680908203\n",
      "0.6574432849884033\n",
      "4.973000526428223\n"
     ]
    },
    {
     "data": {
      "text/plain": [
       "44396"
      ]
     },
     "execution_count": 118,
     "metadata": {},
     "output_type": "execute_result"
    }
   ],
   "source": [
    "getMaxAdditionalDinersCount(N, K, M, S)"
   ]
  },
  {
   "cell_type": "code",
   "execution_count": 125,
   "id": "bb8dc86f",
   "metadata": {},
   "outputs": [],
   "source": [
    "def getMaxAdditionalDinersCount(N: int, K: int, M: int, S: List[int]) -> int:\n",
    "\n",
    "# we create a list of seats initialized with 0's\n",
    "# Start timing\n",
    "  S=np.array(S)\n",
    "  seats_vaccancy = np.zeros(N, dtype=int)\n",
    "  seats_vaccancy[S-1]=1\n",
    "\n",
    "    \n",
    "  diners_plus=0  \n",
    "  seats_vaccancy=list(seats_vaccancy)\n",
    "  for i in range(N):\n",
    "    right=0\n",
    "    left=0\n",
    "    respect=True  \n",
    "    \n",
    "    if seats_vaccancy[i]==1:\n",
    "        continue        \n",
    "    # see if seats respect distanciation \n",
    "    if i+K<N:\n",
    "      right= (seats_vaccancy[i+1:i+K+1]).__contains__(1)\n",
    "    else:\n",
    "      right=(seats_vaccancy[i+1:N]).__contains__(1)\n",
    "      \n",
    "    if i-K>0:\n",
    "      left=(seats_vaccancy[i-K:i]).__contains__(1)\n",
    "    else:\n",
    "      left=(seats_vaccancy[0:i]).__contains__(1)\n",
    "          \n",
    "    if left or right:\n",
    "      respect=False\n",
    "      \n",
    "    if respect:\n",
    "      seats_vaccancy[i]=1\n",
    "      diners_plus+=1\n",
    "      \n",
    "    \n",
    "  return diners_plus"
   ]
  },
  {
   "cell_type": "code",
   "execution_count": 128,
   "id": "ef1f1646",
   "metadata": {},
   "outputs": [
    {
     "data": {
      "text/plain": [
       "4512"
      ]
     },
     "execution_count": 128,
     "metadata": {},
     "output_type": "execute_result"
    }
   ],
   "source": [
    "getMaxAdditionalDinersCount(N, K, M, S)"
   ]
  }
 ],
 "metadata": {
  "kernelspec": {
   "display_name": "Python 3 (ipykernel)",
   "language": "python",
   "name": "python3"
  },
  "language_info": {
   "codemirror_mode": {
    "name": "ipython",
    "version": 3
   },
   "file_extension": ".py",
   "mimetype": "text/x-python",
   "name": "python",
   "nbconvert_exporter": "python",
   "pygments_lexer": "ipython3",
   "version": "3.8.16"
  }
 },
 "nbformat": 4,
 "nbformat_minor": 5
}
