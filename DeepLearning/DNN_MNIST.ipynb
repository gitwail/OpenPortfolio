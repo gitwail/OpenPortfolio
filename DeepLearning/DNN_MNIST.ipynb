{
 "cells": [
  {
   "cell_type": "markdown",
   "id": "1656a40c-bf33-4382-b6b6-90fe1ff1b8d1",
   "metadata": {},
   "source": [
    "# Preparing MNIST data "
   ]
  },
  {
   "cell_type": "code",
   "execution_count": 160,
   "id": "db00f921-60b5-431c-8656-cb8fe36fcbbe",
   "metadata": {},
   "outputs": [],
   "source": [
    "from pathlib import Path\n",
    "import requests   \n",
    "import pickle\n",
    "import gzip\n",
    "import matplotlib.pyplot as plt\n"
   ]
  },
  {
   "cell_type": "code",
   "execution_count": 161,
   "id": "38a48da8-1053-4e99-ac63-c1e1e9ed97e5",
   "metadata": {},
   "outputs": [],
   "source": [
    "data_path=Path(\"data\") if Path(\"data\").exists() else Path(\"../data\")\n",
    "path=data_path/\"vector-mnist\"\n",
    "path.mkdir(parents=True,exist_ok=True)"
   ]
  },
  {
   "cell_type": "code",
   "execution_count": 162,
   "id": "8419e2b7-426e-4a85-aab8-bcbed0e03c81",
   "metadata": {},
   "outputs": [
    {
     "data": {
      "text/plain": [
       "WindowsPath('data/vector-mnist')"
      ]
     },
     "execution_count": 162,
     "metadata": {},
     "output_type": "execute_result"
    }
   ],
   "source": [
    "path"
   ]
  },
  {
   "cell_type": "code",
   "execution_count": 163,
   "id": "b92ba339-ed7f-4a42-9a3b-146377c91ffe",
   "metadata": {},
   "outputs": [],
   "source": [
    "def download_mnist(path):\n",
    "    url = \"https://github.com/pytorch/tutorials/raw/main/_static/\"\n",
    "    filename = \"mnist.pkl.gz\"\n",
    "\n",
    "    if not (path / filename).exists():\n",
    "        content = requests.get(url + filename).content\n",
    "        (path / filename).open(\"wb\").write(content)\n",
    "\n",
    "    return path / filename\n",
    "\n",
    "\n",
    "data_path = Path(\"data\") if Path(\"data\").exists() else Path(\"../data\")\n",
    "path = data_path / \"downloaded\" / \"vector-mnist\"\n",
    "path.mkdir(parents=True, exist_ok=True)\n",
    "\n",
    "datafile = download_mnist(path)"
   ]
  },
  {
   "cell_type": "code",
   "execution_count": 164,
   "id": "a6a665a8-f14f-4da2-9fee-6238f77d1da2",
   "metadata": {},
   "outputs": [],
   "source": [
    "def read_mnist(path):\n",
    "    with gzip.open(path, \"rb\") as f:\n",
    "        ((x_train, y_train), (x_valid, y_valid), _) = pickle.load(f, encoding=\"latin-1\")\n",
    "    return x_train, y_train, x_valid, y_valid\n",
    "\n",
    "x_train, y_train, x_valid, y_valid = read_mnist(datafile)"
   ]
  },
  {
   "cell_type": "markdown",
   "id": "110e4208-7f70-488b-a52d-4456a5cf97ef",
   "metadata": {},
   "source": [
    "The data type is numpy array, for the rest of the lab we will be using torch.tensors as they store gradients and graph structure."
   ]
  },
  {
   "cell_type": "code",
   "execution_count": 165,
   "id": "4e46341a-508a-4246-9477-ce2f520a65f4",
   "metadata": {},
   "outputs": [],
   "source": [
    "import torch \n",
    "x_train, y_train, x_valid, y_valid=map(torch.tensor, (x_train, y_train, x_valid, y_valid))"
   ]
  },
  {
   "cell_type": "code",
   "execution_count": 166,
   "id": "f960fb23-805c-4769-9acd-955c77940a34",
   "metadata": {},
   "outputs": [
    {
     "data": {
      "text/plain": [
       "(tensor([[0., 0., 0.,  ..., 0., 0., 0.],\n",
       "         [0., 0., 0.,  ..., 0., 0., 0.],\n",
       "         [0., 0., 0.,  ..., 0., 0., 0.],\n",
       "         ...,\n",
       "         [0., 0., 0.,  ..., 0., 0., 0.],\n",
       "         [0., 0., 0.,  ..., 0., 0., 0.],\n",
       "         [0., 0., 0.,  ..., 0., 0., 0.]]),\n",
       " tensor([5, 0, 4,  ..., 8, 4, 8]))"
      ]
     },
     "execution_count": 166,
     "metadata": {},
     "output_type": "execute_result"
    }
   ],
   "source": [
    "x_train,y_train"
   ]
  },
  {
   "cell_type": "code",
   "execution_count": 167,
   "id": "e9ec011c-57b9-4433-a975-1814675cfb1f",
   "metadata": {},
   "outputs": [
    {
     "data": {
      "text/plain": [
       "tensor([0, 1, 2, 3, 4, 5, 6, 7, 8, 9])"
      ]
     },
     "execution_count": 167,
     "metadata": {},
     "output_type": "execute_result"
    }
   ],
   "source": [
    "y_train.unique()"
   ]
  },
  {
   "cell_type": "code",
   "execution_count": 168,
   "id": "ae896848-4642-41e3-a32e-573c71335472",
   "metadata": {},
   "outputs": [
    {
     "name": "stdout",
     "output_type": "stream",
     "text": [
      "The corresponding label is 5\n"
     ]
    },
    {
     "data": {
      "image/png": "[encoded data removed]",
      "text/plain": [
       "<Figure size 640x480 with 1 Axes>"
      ]
     },
     "metadata": {},
     "output_type": "display_data"
    }
   ],
   "source": [
    "plt.imshow(x_train[0].reshape(28,28))\n",
    "print(f'The corresponding label is {y_train[0]}')"
   ]
  },
  {
   "cell_type": "markdown",
   "id": "6de13958-c75a-4074-b13c-d1eaeea3a3ef",
   "metadata": {},
   "source": [
    "# Mnist classification with DNN"
   ]
  },
  {
   "cell_type": "markdown",
   "id": "8861c843-5d22-4a5c-b3c6-8f11887133dd",
   "metadata": {},
   "source": [
    "## Building a DNN using only torch.Tensor methods and Python"
   ]
  },
  {
   "cell_type": "markdown",
   "id": "9c70797c-9687-4130-b63c-a8d4f47a678d",
   "metadata": {},
   "source": [
    "Lets create a function that fetch batchs to use for training"
   ]
  },
  {
   "cell_type": "code",
   "execution_count": 169,
   "id": "f9bfaf30-31a8-430c-81c1-80e2e7ddd357",
   "metadata": {},
   "outputs": [
    {
     "name": "stdout",
     "output_type": "stream",
     "text": [
      " X: torch.Size([32, 784]) and Y: torch.Size([32]) shapes are\n"
     ]
    }
   ],
   "source": [
    "import random\n",
    "bs=32\n",
    "def get_batch(x,y):\n",
    "    # batch size\n",
    "    \n",
    "    # generate a random integer i\n",
    "    i=random.randint(1,x_train.shape[0]-bs)\n",
    "    # get train batch \n",
    "    return x[i:i+bs],y[i:i+bs]\n",
    "\n",
    "X,Y=get_batch(x_train,y_train)\n",
    "\n",
    "print(f\" X: {X.shape} and Y: {Y.shape} shapes are\")\n"
   ]
  },
  {
   "cell_type": "markdown",
   "id": "17508e7a-1e83-4435-9b3f-32826a4a4b1b",
   "metadata": {},
   "source": [
    "Lets define the DNN parameters: W (weight) and b (bias)."
   ]
  },
  {
   "cell_type": "code",
   "execution_count": 170,
   "id": "f8e0e91e-5692-4039-8510-482976490efe",
   "metadata": {},
   "outputs": [],
   "source": [
    "W = torch.rand(784, 10, requires_grad=True)\n",
    "b=torch.rand(10,requires_grad=True)\n",
    "parameters=[W,b]\n"
   ]
  },
  {
   "cell_type": "markdown",
   "id": "1afdf4c4-04ae-4c0d-963e-6bb00a1f4815",
   "metadata": {},
   "source": [
    "### Defining the model"
   ]
  },
  {
   "cell_type": "code",
   "execution_count": 171,
   "id": "f22ca96a-ec8e-4692-99b7-337bdb127858",
   "metadata": {},
   "outputs": [
    {
     "data": {
      "text/plain": [
       "(torch.Size([32, 10]), torch.Size([10]))"
      ]
     },
     "execution_count": 171,
     "metadata": {},
     "output_type": "execute_result"
    }
   ],
   "source": [
    "(X@W).shape,b.shape"
   ]
  },
  {
   "cell_type": "code",
   "execution_count": 172,
   "id": "101530c3-5a37-4783-8f3b-eb1beb2b0f23",
   "metadata": {},
   "outputs": [
    {
     "data": {
      "text/plain": [
       "tensor(3.4879, grad_fn=<MeanBackward0>)"
      ]
     },
     "execution_count": 172,
     "metadata": {},
     "output_type": "execute_result"
    }
   ],
   "source": [
    "logits=(X@W)+b # (32,10)\n",
    "logits=logits-logits.max(dim=1, keepdim=True)[0]\n",
    "exp_logits=logits.exp() # (32,10)\n",
    "sum_logits=exp_logits.sum(1,keepdim=True) # (32,1)\n",
    "proba=exp_logits/sum_logits\n",
    "# Calculate negative log likelihood\n",
    "nll = -torch.log(proba[torch.arange(bs), Y])\n",
    "# Average over the batch\n",
    "loss = nll.mean()\n",
    "loss"
   ]
  },
  {
   "cell_type": "code",
   "execution_count": 173,
   "id": "f74cacd0-02f7-46bb-89fa-bdd24fb301f0",
   "metadata": {},
   "outputs": [],
   "source": [
    "def model(X,Y):\n",
    "    logits=(X@W)+b # (32,10)\n",
    "    logits=logits-logits.max(dim=1, keepdim=True)[0]\n",
    "    exp_logits=logits.exp() # (32,10)\n",
    "    sum_logits=exp_logits.sum(1,keepdim=True) # (32,1)\n",
    "    proba=exp_logits/sum_logits\n",
    "    return logits,proba\n",
    "    "
   ]
  },
  {
   "cell_type": "markdown",
   "id": "c00b6ab6-a981-4dd8-b88f-b89699db31b0",
   "metadata": {},
   "source": [
    "### Defining the loss and metrics"
   ]
  },
  {
   "cell_type": "code",
   "execution_count": 174,
   "id": "c636fc77-ceb8-42eb-a3b3-1ea0ccd78d85",
   "metadata": {},
   "outputs": [
    {
     "data": {
      "text/plain": [
       "tensor(3.4879, grad_fn=<NllLossBackward0>)"
      ]
     },
     "execution_count": 174,
     "metadata": {},
     "output_type": "execute_result"
    }
   ],
   "source": [
    "import torch.nn.functional as F\n",
    "loss=F.cross_entropy(logits,Y)\n",
    "loss"
   ]
  },
  {
   "cell_type": "code",
   "execution_count": 175,
   "id": "4912362e-3112-4f36-b1a2-b12153b6cd18",
   "metadata": {},
   "outputs": [],
   "source": [
    "logits,proba=model(x_train,y_train)"
   ]
  },
  {
   "cell_type": "code",
   "execution_count": 176,
   "id": "06b6f3dc-6721-4b1e-9991-bf57b1b9339e",
   "metadata": {},
   "outputs": [
    {
     "data": {
      "text/plain": [
       "tensor(0.1083)"
      ]
     },
     "execution_count": 176,
     "metadata": {},
     "output_type": "execute_result"
    }
   ],
   "source": [
    "accuracy=torch.mean(((torch.argmax(proba, 1, keepdim=False)==y_train)*1).float())\n",
    "accuracy"
   ]
  },
  {
   "cell_type": "markdown",
   "id": "91e8e3ac-c2de-483f-9c42-cd829c71f160",
   "metadata": {},
   "source": [
    "### Defining and running the fitting loop "
   ]
  },
  {
   "cell_type": "code",
   "execution_count": 177,
   "id": "61d7917c-a0ee-483f-b67c-a5a70eb7e736",
   "metadata": {},
   "outputs": [
    {
     "name": "stdout",
     "output_type": "stream",
     "text": [
      "tensor(0.7815, grad_fn=<NllLossBackward0>)\n"
     ]
    }
   ],
   "source": [
    "epoch=100\n",
    "lr=0.1\n",
    "for _ in range(epoch):\n",
    "    X,Y=get_batch(x_train,y_train)\n",
    "    # forward pass\n",
    "    logits,proba=model(X,Y)\n",
    "    loss=F.cross_entropy(logits,Y)\n",
    "    # backward pass\n",
    "    loss.backward()\n",
    "    # update parameters\n",
    "    # Weight W\n",
    "    with torch.no_grad():\n",
    "        W+=-lr*W.grad\n",
    "        #update bias b\n",
    "        b+=-lr*b.grad\n",
    "        # zeroing the gradients\n",
    "        W.grad.zero_()\n",
    "        b.grad.zero_()\n",
    "\n",
    "print(loss)"
   ]
  },
  {
   "cell_type": "code",
   "execution_count": 178,
   "id": "e79e139a-6fc0-447a-a79e-84fbdf9f5a0d",
   "metadata": {},
   "outputs": [
    {
     "data": {
      "text/plain": [
       "tensor(0.7413)"
      ]
     },
     "execution_count": 178,
     "metadata": {},
     "output_type": "execute_result"
    }
   ],
   "source": [
    "logits,proba=model(x_valid,y_valid)\n",
    "accuracy=torch.mean(((torch.argmax(proba, 1, keepdim=False)==y_valid)*1).float())\n",
    "accuracy"
   ]
  },
  {
   "cell_type": "markdown",
   "id": "d0e79afa-bac0-4446-9cd9-e74fe9423ee8",
   "metadata": {},
   "source": [
    "# Refactoring with core torch.nn components"
   ]
  },
  {
   "cell_type": "markdown",
   "id": "4f6a5d40-4b07-45c5-8767-0b3d017c7c0a",
   "metadata": {},
   "source": [
    "## Using torch.nn.Module to define functions whose state is given by torch.nn.Parameters"
   ]
  },
  {
   "cell_type": "code",
   "execution_count": 179,
   "id": "33f0e872-eb38-409c-819a-df6921bf46c6",
   "metadata": {},
   "outputs": [],
   "source": [
    "a=x_train[1]\n"
   ]
  },
  {
   "cell_type": "code",
   "execution_count": 180,
   "id": "44a4389d-f5bc-4755-a41b-95b16d318972",
   "metadata": {},
   "outputs": [],
   "source": [
    "class logisticRegression(torch.nn.Module):\n",
    "    def __init__(self):\n",
    "        super().__init__()\n",
    "        self.ln=torch.nn.Linear(784,10)\n",
    "        \n",
    "    def forward(self,x):\n",
    "        x=self.ln(x)\n",
    "        x = F.softmax(x, dim=1)\n",
    "        return x\n"
   ]
  },
  {
   "cell_type": "code",
   "execution_count": 181,
   "id": "627ad7cf-e4f7-4f46-905b-c209368533db",
   "metadata": {},
   "outputs": [],
   "source": [
    "model=logisticRegression()\n",
    "loss_func=F.cross_entropy\n",
    "accuracy= lambda proba,y :torch.mean(((torch.argmax(proba, 1, keepdim=False)==y)*1).float())\n"
   ]
  },
  {
   "cell_type": "code",
   "execution_count": 182,
   "id": "9c856f18-d568-4625-9273-4b47f841618d",
   "metadata": {},
   "outputs": [
    {
     "data": {
      "text/plain": [
       "tensor(2.3050, grad_fn=<NllLossBackward0>)"
      ]
     },
     "execution_count": 182,
     "metadata": {},
     "output_type": "execute_result"
    }
   ],
   "source": [
    "loss_func(model(X),Y)# batch loss"
   ]
  },
  {
   "cell_type": "code",
   "execution_count": 185,
   "id": "77745e36-354c-4e2d-94af-766d92c02854",
   "metadata": {},
   "outputs": [
    {
     "name": "stdout",
     "output_type": "stream",
     "text": [
      "validation loss tensor(1.5880, grad_fn=<NllLossBackward0>)\n",
      "accuracy on validation tensor(0.8722)\n"
     ]
    }
   ],
   "source": [
    "epoch=100\n",
    "\n",
    "lr=0.1\n",
    "for _ in range(epoch):\n",
    "    xb,yb=get_batch(x_train,y_train)\n",
    "    loss=loss_func(model(xb),yb)\n",
    "    loss.backward()\n",
    "    with torch.no_grad():\n",
    "        for p in model.parameters():\n",
    "            p-=lr*p.grad\n",
    "    \n",
    "print(\"validation loss\",loss_func(model(x_valid),y_valid))\n",
    "print(\"accuracy on validation\", accuracy(model(x_valid),y_valid))"
   ]
  },
  {
   "cell_type": "markdown",
   "id": "f7a8467a-1036-49a5-bd15-7a933c7050f8",
   "metadata": {},
   "source": [
    "# Refactoring intermediate torch.nn components: network layers, optimizers, and data handling"
   ]
  },
  {
   "cell_type": "markdown",
   "id": "e3b979ea-3cc1-480e-a380-9202dbd2ade3",
   "metadata": {},
   "source": [
    "## Applying gradients with torch.optim.Optimizer"
   ]
  },
  {
   "cell_type": "code",
   "execution_count": 215,
   "id": "21da1701-2060-4a63-aff0-ca6ec85a7ca9",
   "metadata": {},
   "outputs": [],
   "source": [
    "class MLP(torch.nn.Module):\n",
    "    def __init__(self):\n",
    "        super().__init__()\n",
    "        self.ln=torch.nn.Linear(784,10)\n",
    "            \n",
    "    def forward(self,x):\n",
    "        x=self.ln(x)\n",
    "        x=F.softmax(x,1)\n",
    "        return x"
   ]
  },
  {
   "cell_type": "code",
   "execution_count": 216,
   "id": "bc9ae359-e0bd-4cba-bc4c-ca823f0b1365",
   "metadata": {},
   "outputs": [],
   "source": [
    "m=MLP()\n",
    "opt=torch.optim.Adam(m.parameters())\n"
   ]
  },
  {
   "cell_type": "code",
   "execution_count": 218,
   "id": "d16854be-1985-48df-b1a0-4500234494d9",
   "metadata": {},
   "outputs": [
    {
     "name": "stdout",
     "output_type": "stream",
     "text": [
      "validation loss tensor(1.5889, grad_fn=<NllLossBackward0>)\n",
      "accuracy on validation tensor(0.9080)\n"
     ]
    }
   ],
   "source": [
    "epoch=1000\n",
    "\n",
    "lr=0.1\n",
    "for _ in range(epoch):\n",
    "    xb,yb=get_batch(x_train,y_train)\n",
    "    loss=loss_func(m(xb),yb)\n",
    "    loss.backward()\n",
    "    opt.step()\n",
    "    opt.zero_grad()\n",
    "    \n",
    "print(\"validation loss\",loss_func(m(x_valid),y_valid))\n",
    "print(\"accuracy on validation\", accuracy(m(x_valid),y_valid))"
   ]
  },
  {
   "cell_type": "markdown",
   "id": "d2a5ecac-b332-48b2-b4fa-f9c70409184a",
   "metadata": {},
   "source": [
    "## Organizing data with torch.utils.data.Dataset"
   ]
  },
  {
   "cell_type": "markdown",
   "id": "fc5497bd-8b4d-437f-aa4d-c8bac5f03079",
   "metadata": {},
   "source": [
    "## Batching up data with torch.utils.data.DataLoader"
   ]
  },
  {
   "cell_type": "code",
   "execution_count": 235,
   "id": "eb3b4f52-470e-4643-82be-26eeb7cda7cc",
   "metadata": {},
   "outputs": [],
   "source": [
    "from torch.utils.data import TensorDataset\n",
    "from torch.utils.data import DataLoader\n",
    "\n",
    "train_ds=TensorDataset(x_train,y_train)"
   ]
  },
  {
   "cell_type": "code",
   "execution_count": 223,
   "id": "71774ba9-9228-414f-9904-1fee90b7c774",
   "metadata": {},
   "outputs": [
    {
     "data": {
      "text/plain": [
       "50000"
      ]
     },
     "execution_count": 223,
     "metadata": {},
     "output_type": "execute_result"
    }
   ],
   "source": [
    "len(train_ds)"
   ]
  },
  {
   "cell_type": "code",
   "execution_count": 252,
   "id": "18e8f28f-7f8d-4dfa-a1a6-8cdeb11e9725",
   "metadata": {},
   "outputs": [],
   "source": [
    "train_dl=DataLoader(train_ds, batch_size=10000)"
   ]
  },
  {
   "cell_type": "code",
   "execution_count": 262,
   "id": "b0128cb2-019f-4c71-a46e-2b8a26445191",
   "metadata": {},
   "outputs": [
    {
     "ename": "AttributeError",
     "evalue": "'MLP' object has no attribute 'fit'",
     "output_type": "error",
     "traceback": [
      "\u001b[1;31m---------------------------------------------------------------------------\u001b[0m",
      "\u001b[1;31mAttributeError\u001b[0m                            Traceback (most recent call last)",
      "Cell \u001b[1;32mIn[262], line 1\u001b[0m\n\u001b[1;32m----> 1\u001b[0m \u001b[43mmodel\u001b[49m\u001b[38;5;241;43m.\u001b[39;49m\u001b[43mfit\u001b[49m()\n",
      "File \u001b[1;32m~\\Anaconda3\\envs\\gym\\lib\\site-packages\\torch\\nn\\modules\\module.py:1614\u001b[0m, in \u001b[0;36mModule.__getattr__\u001b[1;34m(self, name)\u001b[0m\n\u001b[0;32m   1612\u001b[0m     \u001b[38;5;28;01mif\u001b[39;00m name \u001b[38;5;129;01min\u001b[39;00m modules:\n\u001b[0;32m   1613\u001b[0m         \u001b[38;5;28;01mreturn\u001b[39;00m modules[name]\n\u001b[1;32m-> 1614\u001b[0m \u001b[38;5;28;01mraise\u001b[39;00m \u001b[38;5;167;01mAttributeError\u001b[39;00m(\u001b[38;5;124m\"\u001b[39m\u001b[38;5;124m'\u001b[39m\u001b[38;5;132;01m{}\u001b[39;00m\u001b[38;5;124m'\u001b[39m\u001b[38;5;124m object has no attribute \u001b[39m\u001b[38;5;124m'\u001b[39m\u001b[38;5;132;01m{}\u001b[39;00m\u001b[38;5;124m'\u001b[39m\u001b[38;5;124m\"\u001b[39m\u001b[38;5;241m.\u001b[39mformat(\n\u001b[0;32m   1615\u001b[0m     \u001b[38;5;28mtype\u001b[39m(\u001b[38;5;28mself\u001b[39m)\u001b[38;5;241m.\u001b[39m\u001b[38;5;18m__name__\u001b[39m, name))\n",
      "\u001b[1;31mAttributeError\u001b[0m: 'MLP' object has no attribute 'fit'"
     ]
    }
   ],
   "source": []
  }
 ],
 "metadata": {
  "kernelspec": {
   "display_name": "Python 3 (ipykernel)",
   "language": "python",
   "name": "python3"
  },
  "language_info": {
   "codemirror_mode": {
    "name": "ipython",
    "version": 3
   },
   "file_extension": ".py",
   "mimetype": "text/x-python",
   "name": "python",
   "nbconvert_exporter": "python",
   "pygments_lexer": "ipython3",
   "version": "3.8.16"
  },
  "toc-autonumbering": true,
  "toc-showcode": true,
  "toc-showmarkdowntxt": true
 },
 "nbformat": 4,
 "nbformat_minor": 5
}
