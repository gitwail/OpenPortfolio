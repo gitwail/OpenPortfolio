{
  "nbformat": 4,
  "nbformat_minor": 0,
  "metadata": {
    "colab": {
      "provenance": [],
      "toc_visible": true,
      "authorship_tag": "ABX9TyPXK6FBmgZC7dFuDXnehJaB",
      "include_colab_link": true
    },
    "kernelspec": {
      "name": "python3",
      "display_name": "Python 3"
    },
    "language_info": {
      "name": "python"
    }
  },
  "cells": [
    {
      "cell_type": "markdown",
      "metadata": {
        "id": "view-in-github",
        "colab_type": "text"
      },
      "source": [
        "<a href=\"https://colab.research.google.com/github/gitwail/OpenPortfolio/blob/main/Mingpt_V2.ipynb\" target=\"_parent\"><img src=\"https://colab.research.google.com/assets/colab-badge.svg\" alt=\"Open In Colab\"/></a>"
      ]
    },
    {
      "cell_type": "code",
      "execution_count": 1,
      "metadata": {
        "colab": {
          "base_uri": "https://localhost:8080/"
        },
        "id": "QWCTJwVzUfcB",
        "outputId": "e5dbdbb9-068a-4742-d6a7-3095fe2b27fb"
      },
      "outputs": [
        {
          "output_type": "stream",
          "name": "stdout",
          "text": [
            "--2024-07-25 14:13:14--  https://raw.githubusercontent.com/karpathy/char-rnn/master/data/tinyshakespeare/input.txt\n",
            "Resolving raw.githubusercontent.com (raw.githubusercontent.com)... 185.199.111.133, 185.199.109.133, 185.199.108.133, ...\n",
            "Connecting to raw.githubusercontent.com (raw.githubusercontent.com)|185.199.111.133|:443... connected.\n",
            "HTTP request sent, awaiting response... 200 OK\n",
            "Length: 1115394 (1.1M) [text/plain]\n",
            "Saving to: ‘input.txt.1’\n",
            "\n",
            "input.txt.1         100%[===================>]   1.06M  --.-KB/s    in 0.06s   \n",
            "\n",
            "2024-07-25 14:13:14 (18.0 MB/s) - ‘input.txt.1’ saved [1115394/1115394]\n",
            "\n"
          ]
        }
      ],
      "source": [
        "# We always start with a dataset to train on. Let's download the tiny shakespeare dataset\n",
        "!wget https://raw.githubusercontent.com/karpathy/char-rnn/master/data/tinyshakespeare/input.txt"
      ]
    },
    {
      "cell_type": "code",
      "source": [
        "# read it in to inspect it\n",
        "with open('input.txt', 'r', encoding='utf-8') as f:\n",
        "    text = f.read()"
      ],
      "metadata": {
        "id": "wZxk1oq9UwNv"
      },
      "execution_count": 2,
      "outputs": []
    },
    {
      "cell_type": "code",
      "source": [
        "print(text[:200])"
      ],
      "metadata": {
        "id": "_FXPZ6lWUxk-",
        "outputId": "a7ed6af7-1803-4e88-f4cc-79810ae165b4",
        "colab": {
          "base_uri": "https://localhost:8080/"
        }
      },
      "execution_count": 3,
      "outputs": [
        {
          "output_type": "stream",
          "name": "stdout",
          "text": [
            "First Citizen:\n",
            "Before we proceed any further, hear me speak.\n",
            "\n",
            "All:\n",
            "Speak, speak.\n",
            "\n",
            "First Citizen:\n",
            "You are all resolved rather to die than to famish?\n",
            "\n",
            "All:\n",
            "Resolved. resolved.\n",
            "\n",
            "First Citizen:\n",
            "First, you\n"
          ]
        }
      ]
    },
    {
      "cell_type": "markdown",
      "source": [
        "# Preprocessing dataset"
      ],
      "metadata": {
        "id": "fWy9d6aUVbpv"
      }
    },
    {
      "cell_type": "markdown",
      "source": [
        "## Encoding and Decoding"
      ],
      "metadata": {
        "id": "8TnivwA2Wdsp"
      }
    },
    {
      "cell_type": "code",
      "source": [
        "# finding the vocabulary\n",
        "vocab=sorted(set(list(text)))\n",
        "print(\"vocab size is:\",len(vocab))\n",
        "print(vocab)"
      ],
      "metadata": {
        "colab": {
          "base_uri": "https://localhost:8080/"
        },
        "id": "ij5O3rXcVf6-",
        "outputId": "92554c82-609e-4464-9cfd-433f2e6a396f"
      },
      "execution_count": 4,
      "outputs": [
        {
          "output_type": "stream",
          "name": "stdout",
          "text": [
            "vocab size is: 65\n",
            "['\\n', ' ', '!', '$', '&', \"'\", ',', '-', '.', '3', ':', ';', '?', 'A', 'B', 'C', 'D', 'E', 'F', 'G', 'H', 'I', 'J', 'K', 'L', 'M', 'N', 'O', 'P', 'Q', 'R', 'S', 'T', 'U', 'V', 'W', 'X', 'Y', 'Z', 'a', 'b', 'c', 'd', 'e', 'f', 'g', 'h', 'i', 'j', 'k', 'l', 'm', 'n', 'o', 'p', 'q', 'r', 's', 't', 'u', 'v', 'w', 'x', 'y', 'z']\n"
          ]
        }
      ]
    },
    {
      "cell_type": "code",
      "source": [
        "# Mapping dict converting string and integers\n",
        "stoi= {c:i for i,c in enumerate(vocab)}\n",
        "itos={i:c for i,c in enumerate(vocab)}"
      ],
      "metadata": {
        "id": "2IDL4S9JVuiS"
      },
      "execution_count": 5,
      "outputs": []
    },
    {
      "cell_type": "code",
      "source": [
        "# Encoding/decoding functions that convert a sentence and tokens (integers here !)\n",
        "encode= lambda sentence:[ stoi[s] for s in sentence]\n",
        "decode= lambda tokens:[ itos[t] for t in tokens]"
      ],
      "metadata": {
        "id": "i1t6BuC0Vzhd"
      },
      "execution_count": 6,
      "outputs": []
    },
    {
      "cell_type": "code",
      "source": [
        "sentence=\"hello my name is wail\"\n",
        "print(sentence)\n",
        "tokens=encode(sentence)\n",
        "print(tokens)\n",
        "print(decode(tokens))"
      ],
      "metadata": {
        "colab": {
          "base_uri": "https://localhost:8080/"
        },
        "id": "VUWhOV9SWVkp",
        "outputId": "e7b47dcc-95e5-4bf7-83c0-eede1eb1e11a"
      },
      "execution_count": 7,
      "outputs": [
        {
          "output_type": "stream",
          "name": "stdout",
          "text": [
            "hello my name is wail\n",
            "[46, 43, 50, 50, 53, 1, 51, 63, 1, 52, 39, 51, 43, 1, 47, 57, 1, 61, 39, 47, 50]\n",
            "['h', 'e', 'l', 'l', 'o', ' ', 'm', 'y', ' ', 'n', 'a', 'm', 'e', ' ', 'i', 's', ' ', 'w', 'a', 'i', 'l']\n"
          ]
        }
      ]
    },
    {
      "cell_type": "markdown",
      "source": [
        "## Splitting the dataset (90% train, 10% validation)"
      ],
      "metadata": {
        "id": "K6ND33y3Wijl"
      }
    },
    {
      "cell_type": "code",
      "source": [
        "dataset_len=len(text)\n",
        "split_indice=int(dataset_len*0.9)\n",
        "train=text[:split_indice]\n",
        "validation=text[split_indice:]\n"
      ],
      "metadata": {
        "id": "hAi60OImWqn3"
      },
      "execution_count": 8,
      "outputs": []
    },
    {
      "cell_type": "markdown",
      "source": [
        "# Sampling batch"
      ],
      "metadata": {
        "id": "5nLhMpxDXRhC"
      }
    },
    {
      "cell_type": "code",
      "source": [
        "import torch\n",
        "import torch.nn as nn\n",
        "from torch.nn import functional as F\n"
      ],
      "metadata": {
        "id": "ZWDubCrGYNUc"
      },
      "execution_count": 9,
      "outputs": []
    },
    {
      "cell_type": "code",
      "source": [
        "# encode and torchify datasets\n",
        "train=torch.tensor(encode(train))\n",
        "validation=torch.tensor(encode(validation))"
      ],
      "metadata": {
        "id": "fEd_ZV9uZI-y"
      },
      "execution_count": 10,
      "outputs": []
    },
    {
      "cell_type": "code",
      "source": [
        "# batch size\n",
        "batch_size=32\n",
        "# context window\n",
        "context_window=8\n",
        "\n",
        "def get_batch(split='train',batch_size=32,context_window=8):\n",
        "    # generate a small batch of data of inputs x and targets y\n",
        "    data = train if split == 'train' else validation\n",
        "    ix = torch.randint(len(data) - context_window, (batch_size,))\n",
        "    # print(\"random ints generated: \",ix)\n",
        "    x = torch.stack([data[i:i+context_window] for i in ix])\n",
        "    y = torch.stack([data[i+1:i+context_window+1] for i in ix])\n",
        "    return x, y\n",
        "\n",
        "x,y=get_batch(split='train',batch_size=batch_size,context_window=context_window)\n",
        "print(f\"input:{x}\")\n",
        "print(f\"target:{y}\")\n"
      ],
      "metadata": {
        "colab": {
          "base_uri": "https://localhost:8080/"
        },
        "collapsed": true,
        "id": "-83OHOiyXfs8",
        "outputId": "1497711d-abbb-4cc3-fba6-6179058f4b7f"
      },
      "execution_count": 11,
      "outputs": [
        {
          "output_type": "stream",
          "name": "stdout",
          "text": [
            "input:tensor([[52, 48, 59, 57, 58,  1, 59, 52],\n",
            "        [58,  1, 21,  1, 41, 53, 52, 42],\n",
            "        [57, 47, 56, 43,  1, 58, 53,  1],\n",
            "        [32, 46, 43, 63,  1, 51, 59, 57],\n",
            "        [14, 59, 58,  1, 41, 53, 51, 43],\n",
            "        [41, 58, 57,  1, 61, 47, 58, 46],\n",
            "        [26, 17, 26, 21, 33, 31, 10,  0],\n",
            "        [ 1, 21,  1, 51, 59, 57, 58,  1],\n",
            "        [43, 56,  6,  1, 63, 53, 59,  1],\n",
            "        [58, 46,  1, 57, 46, 43,  1, 52],\n",
            "        [35, 46, 47, 41, 46,  1, 21,  1],\n",
            "        [56,  1, 53, 44,  1, 46, 47, 57],\n",
            "        [56, 43,  1, 41, 53, 51, 43,  1],\n",
            "        [44,  1, 46, 47, 57,  1, 50, 39],\n",
            "        [ 1, 43, 58, 43, 56, 52, 39, 50],\n",
            "        [ 1, 51, 63,  1, 42, 43, 39, 56],\n",
            "        [63, 53, 59,  8,  0,  0, 14, 53],\n",
            "        [58, 59, 52, 43,  1, 58, 47, 50],\n",
            "        [46, 47, 57,  1, 41, 53, 59, 52],\n",
            "        [47, 40, 59, 52, 43,  8,  0,  0],\n",
            "        [42,  1, 41, 53, 51, 54, 39, 57],\n",
            "        [50, 50, 57, 10,  0, 13, 52, 42],\n",
            "        [ 1, 39, 44, 58, 43, 56,  1, 56],\n",
            "        [ 1, 41, 53, 59, 50, 42,  1, 58],\n",
            "        [53, 59,  1, 58, 43, 51, 54, 58],\n",
            "        [52, 42,  1, 51, 43,  7,  7,  0],\n",
            "        [ 1, 53, 59, 56,  1, 45, 43, 52],\n",
            "        [46,  1, 63, 53, 59,  1, 39, 56],\n",
            "        [47, 41, 49,  1, 46, 43, 39, 56],\n",
            "        [56, 57, 58,  1, 31, 43, 52, 39],\n",
            "        [46, 10,  1, 58, 46, 43,  1, 61],\n",
            "        [43,  1, 61, 53, 56, 50, 42,  5]])\n",
            "target:tensor([[48, 59, 57, 58,  1, 59, 52, 49],\n",
            "        [ 1, 21,  1, 41, 53, 52, 42, 43],\n",
            "        [47, 56, 43,  1, 58, 53,  1, 40],\n",
            "        [46, 43, 63,  1, 51, 59, 57, 58],\n",
            "        [59, 58,  1, 41, 53, 51, 43,  6],\n",
            "        [58, 57,  1, 61, 47, 58, 46,  1],\n",
            "        [17, 26, 21, 33, 31, 10,  0, 35],\n",
            "        [21,  1, 51, 59, 57, 58,  1, 45],\n",
            "        [56,  6,  1, 63, 53, 59,  1, 50],\n",
            "        [46,  1, 57, 46, 43,  1, 52, 53],\n",
            "        [46, 47, 41, 46,  1, 21,  1, 41],\n",
            "        [ 1, 53, 44,  1, 46, 47, 57,  1],\n",
            "        [43,  1, 41, 53, 51, 43,  1, 58],\n",
            "        [ 1, 46, 47, 57,  1, 50, 39, 40],\n",
            "        [43, 58, 43, 56, 52, 39, 50,  1],\n",
            "        [51, 63,  1, 42, 43, 39, 56,  1],\n",
            "        [53, 59,  8,  0,  0, 14, 53, 58],\n",
            "        [59, 52, 43,  1, 58, 47, 50, 50],\n",
            "        [47, 57,  1, 41, 53, 59, 52, 58],\n",
            "        [40, 59, 52, 43,  8,  0,  0, 31],\n",
            "        [ 1, 41, 53, 51, 54, 39, 57, 57],\n",
            "        [50, 57, 10,  0, 13, 52, 42,  1],\n",
            "        [39, 44, 58, 43, 56,  1, 56, 39],\n",
            "        [41, 53, 59, 50, 42,  1, 58, 46],\n",
            "        [59,  1, 58, 43, 51, 54, 58,  1],\n",
            "        [42,  1, 51, 43,  7,  7,  0, 32],\n",
            "        [53, 59, 56,  1, 45, 43, 52, 43],\n",
            "        [ 1, 63, 53, 59,  1, 39, 56, 43],\n",
            "        [41, 49,  1, 46, 43, 39, 56, 58],\n",
            "        [57, 58,  1, 31, 43, 52, 39, 58],\n",
            "        [10,  1, 58, 46, 43,  1, 61, 46],\n",
            "        [ 1, 61, 53, 56, 50, 42,  5, 57]])\n"
          ]
        }
      ]
    },
    {
      "cell_type": "markdown",
      "source": [
        "# GPT model"
      ],
      "metadata": {
        "id": "-TknvMYwblJz"
      }
    },
    {
      "cell_type": "markdown",
      "source": [
        "## BigramModel"
      ],
      "metadata": {
        "id": "n5CkJ1PBb7ke"
      }
    },
    {
      "cell_type": "code",
      "source": [
        "################# hyperparams and params #########################\n",
        "\n",
        "# vocal size is 65\n",
        "vocab_size=len(vocab)\n",
        "# batch size\n",
        "batch_size=32\n",
        "# context window\n",
        "context_window=8\n",
        "# n_embding\n",
        "n_embd=32\n"
      ],
      "metadata": {
        "id": "-1qVyaulcYMi"
      },
      "execution_count": 12,
      "outputs": []
    },
    {
      "cell_type": "code",
      "source": [
        "\n",
        "class BigramModel(nn.Module):\n",
        "  def __init__(self):\n",
        "    super(BigramModel,self).__init__()\n",
        "    self.embeding=nn.Embedding(vocab_size,n_embd)\n",
        "    self.pos_enc=nn.Embedding(context_window,n_embd)\n",
        "    self.lin=nn.Linear(n_embd,vocab_size)\n",
        "\n",
        "\n",
        "  def forward(self,x,target=None):\n",
        "    # x  (B,T) and target (B,T)\n",
        "    x=self.embeding(x) # (B,T,C)\n",
        "    B,T,C=x.shape\n",
        "    # positional encoding\n",
        "    x=x+self.pos_enc(torch.arange(T))# (B,T,C)\n",
        "    # logits\n",
        "    logits=self.lin(x) # (B,T,V) V for vocabsize\n",
        "\n",
        "    if target!=None:\n",
        "      B,T,C= logits.shape\n",
        "      logits=logits.view(B*T,C)\n",
        "      target=target.view(B*T)\n",
        "      loss=F.cross_entropy(logits,target)\n",
        "    else:\n",
        "      loss=None\n",
        "\n",
        "    return logits,loss\n",
        "\n",
        "  def generate(self,ix,max_new_tokens=100):\n",
        "\n",
        "    for _ in range(max_new_tokens):\n",
        "       # (B,T)\n",
        "      logits,_=self(ix[:,-context_window:]) # (B,T,V)\n",
        "      proba=F.softmax(logits[:,-1,:],dim=-1) #(B,V)\n",
        "      ix_new=torch.multinomial(proba,1,replacement=True)\n",
        "      ix=torch.concat((ix,ix_new),dim=1)\n",
        "\n",
        "    return ix\n",
        "\n",
        "\n",
        "model=BigramModel()\n",
        "logits,loss=model(x,y)\n",
        "x[0,0]"
      ],
      "metadata": {
        "colab": {
          "base_uri": "https://localhost:8080/"
        },
        "id": "M_WQG70HXO2i",
        "outputId": "c8d38be5-2293-4990-c221-592fabff2ea1"
      },
      "execution_count": 13,
      "outputs": [
        {
          "output_type": "execute_result",
          "data": {
            "text/plain": [
              "tensor(52)"
            ]
          },
          "metadata": {},
          "execution_count": 13
        }
      ]
    },
    {
      "cell_type": "markdown",
      "source": [
        "## Training loop"
      ],
      "metadata": {
        "id": "9TTeuzkhiwFe"
      }
    },
    {
      "cell_type": "code",
      "source": [
        "print(\"\".join(decode(model.generate(torch.zeros((1,1),dtype=torch.long))[0].tolist())))"
      ],
      "metadata": {
        "colab": {
          "base_uri": "https://localhost:8080/"
        },
        "id": "ibERCpXiHhu5",
        "outputId": "dc42fa4a-531d-4bd4-ebc3-a86f9a910553"
      },
      "execution_count": 22,
      "outputs": [
        {
          "output_type": "stream",
          "name": "stdout",
          "text": [
            "\n",
            "jF-bxLIGsBWvCOXkR\n",
            "?fsqeC,rg3:;FPxW,RGRas:tcBIRAwk&KBsus;CJJ3N3$AAwOrln;GOS,ejENISgrL?r dDiwEoT:WL'$;\n"
          ]
        }
      ]
    },
    {
      "cell_type": "code",
      "source": [
        "model=BigramModel()\n"
      ],
      "metadata": {
        "id": "XKJdzTC6GGkV"
      },
      "execution_count": 23,
      "outputs": []
    },
    {
      "cell_type": "code",
      "source": [
        "from torch.optim import AdamW\n",
        "\n",
        "#seed\n",
        "torch.manual_seed(1337)\n",
        "# number of iteration\n",
        "n_iteration=10000\n",
        "# learning rate\n",
        "lr=1e-3\n",
        "# optimizer\n",
        "optimizer=AdamW(model.parameters(),lr=1e-3)\n",
        "# model instantiation\n",
        "# model=BigramModel()\n",
        "\n",
        "for i in range(n_iteration):\n",
        "  # get batch\n",
        "  x,y=get_batch(split='train')\n",
        "  # flush the gradients\n",
        "  optimizer.zero_grad()\n",
        "  # loss\n",
        "  logits,loss=model(x,y)\n",
        "  # backward propagation\n",
        "  loss.backward()\n",
        "  # optimizer step\n",
        "  optimizer.step()\n",
        "\n",
        "  if i%1000==0: print(f\"step: {i} training loss: {loss.item()}\")"
      ],
      "metadata": {
        "colab": {
          "base_uri": "https://localhost:8080/"
        },
        "id": "D0ZM6k9wi1Hy",
        "outputId": "d0213562-e056-4123-b789-b2f67a31e556"
      },
      "execution_count": 26,
      "outputs": [
        {
          "output_type": "stream",
          "name": "stdout",
          "text": [
            "step: 0 training loss: 2.4894051551818848\n",
            "step: 1000 training loss: 2.5010359287261963\n",
            "step: 2000 training loss: 2.50520396232605\n",
            "step: 3000 training loss: 2.4809465408325195\n",
            "step: 4000 training loss: 2.4240715503692627\n",
            "step: 5000 training loss: 2.55562424659729\n",
            "step: 6000 training loss: 2.3866758346557617\n",
            "step: 7000 training loss: 2.467378854751587\n",
            "step: 8000 training loss: 2.469608783721924\n",
            "step: 9000 training loss: 2.423356533050537\n"
          ]
        }
      ]
    },
    {
      "cell_type": "code",
      "source": [
        "print(\"\".join(decode(model.generate(torch.zeros((1,1),dtype=torch.long))[0].tolist())))"
      ],
      "metadata": {
        "colab": {
          "base_uri": "https://localhost:8080/"
        },
        "id": "Dg9ZL_wvP4ax",
        "outputId": "289c8ac7-0e2c-40b0-f7e7-901d27cf91f3"
      },
      "execution_count": 30,
      "outputs": [
        {
          "output_type": "stream",
          "name": "stdout",
          "text": [
            "\n",
            "\n",
            "IAMLishiste,\n",
            "\n",
            "LEur l s, S:\n",
            "Au torsuth or urren tharithamit wowote's ipr har ircr\n",
            "PEREveay qust ty D\n"
          ]
        }
      ]
    }
  ]
}