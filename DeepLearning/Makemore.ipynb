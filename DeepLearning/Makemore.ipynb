{
 "cells": [
  {
   "cell_type": "markdown",
   "id": "d0a5ba7b-2c82-4d6f-a7f5-39add45a538a",
   "metadata": {},
   "source": [
    "## Makemore "
   ]
  },
  {
   "cell_type": "code",
   "execution_count": 6,
   "id": "86a2326a-6c78-4572-b6ce-b246793276b3",
   "metadata": {},
   "outputs": [],
   "source": [
    "# libs\n",
    "import numpy as np \n",
    "import torch \n",
    "import string\n",
    "import torch.nn.functional as F\n",
    "# import matplotlib\n",
    "# matplotlib.use('TkAgg')  # This sets the backend to TkAgg\n",
    "import matplotlib.pyplot as plt\n",
    "%matplotlib inline\n"
   ]
  },
  {
   "cell_type": "code",
   "execution_count": 7,
   "id": "fd616fb0-ebbb-4b27-ad38-fc8f824200c7",
   "metadata": {},
   "outputs": [
    {
     "name": "stdout",
     "output_type": "stream",
     "text": [
      "a tensor([10.], requires_grad=True)\n",
      "b tensor([2.], requires_grad=True)\n",
      "c tensor([14.], grad_fn=<AddBackward0>)\n",
      "gradient of a tensor([1.])\n",
      "gradient of b tensor([4.])\n"
     ]
    }
   ],
   "source": [
    "# pytorch gradients and parameters update simple example \n",
    "a=torch.tensor([10.],requires_grad=True)\n",
    "b=torch.tensor([2.],requires_grad=True)\n",
    "\n",
    "c=a+b**2\n",
    "print(\"a\",a)\n",
    "print(\"b\",b)\n",
    "print(\"c\",c)\n",
    "a.grad=None\n",
    "b.grad=None\n",
    "c.backward()\n",
    "print(\"gradient of a\",a.grad)\n",
    "print(\"gradient of b\",b.grad)\n",
    "a.data+=-0.1 * a.grad\n",
    "b.data+=-0.1 * b.grad"
   ]
  },
  {
   "cell_type": "markdown",
   "id": "66bcd7ab",
   "metadata": {},
   "source": [
    "###  Data preprocessing "
   ]
  },
  {
   "cell_type": "code",
   "execution_count": 8,
   "id": "5f4dfec1-952f-43a3-874c-1003ad38bf98",
   "metadata": {},
   "outputs": [],
   "source": [
    "# Open the file in read mode\n",
    "file_path = 'data/names.txt'  # Replace with your file path\n",
    "with open(file_path, 'r') as file:\n",
    "    lines = file.readlines()\n",
    "    \n",
    "names = [line.rstrip() for line in lines]\n"
   ]
  },
  {
   "cell_type": "code",
   "execution_count": 9,
   "id": "3679446f-4e65-4b78-83d1-50538aa344fc",
   "metadata": {},
   "outputs": [
    {
     "data": {
      "text/plain": [
       "'olivia'"
      ]
     },
     "execution_count": 9,
     "metadata": {},
     "output_type": "execute_result"
    }
   ],
   "source": [
    "name=names[1]\n",
    "name"
   ]
  },
  {
   "cell_type": "code",
   "execution_count": 10,
   "id": "149d4167-098c-4309-a9aa-5b9de25cd464",
   "metadata": {},
   "outputs": [
    {
     "name": "stdout",
     "output_type": "stream",
     "text": [
      "{'a': 1, 'b': 2, 'c': 3, 'd': 4, 'e': 5, 'f': 6, 'g': 7, 'h': 8, 'i': 9, 'j': 10, 'k': 11, 'l': 12, 'm': 13, 'n': 14, 'o': 15, 'p': 16, 'q': 17, 'r': 18, 's': 19, 't': 20, 'u': 21, 'v': 22, 'w': 23, 'x': 24, 'y': 25, 'z': 26, '.': 0}\n",
      "{1: 'a', 2: 'b', 3: 'c', 4: 'd', 5: 'e', 6: 'f', 7: 'g', 8: 'h', 9: 'i', 10: 'j', 11: 'k', 12: 'l', 13: 'm', 14: 'n', 15: 'o', 16: 'p', 17: 'q', 18: 'r', 19: 's', 20: 't', 21: 'u', 22: 'v', 23: 'w', 24: 'x', 25: 'y', 26: 'z', 0: '.'}\n"
     ]
    }
   ],
   "source": [
    "# String to integer\n",
    "stoi = {letter: index+1 for index, letter in enumerate(string.ascii_lowercase)}\n",
    "stoi['.']=0\n",
    "print(stoi)\n",
    "# Integer to string\n",
    "itos={v:k for k,v in stoi.items()}\n",
    "print(itos)"
   ]
  },
  {
   "cell_type": "code",
   "execution_count": 11,
   "id": "2f6f04fc-e866-472b-956d-06308c4f3011",
   "metadata": {},
   "outputs": [],
   "source": [
    "# block size: how many letters we use to predict the next letter \n",
    "# Buiding up the data set \n",
    "def build_dataset(names,block_size=3):\n",
    "    X=[]\n",
    "    Y=[]\n",
    "    for name in names:\n",
    "        name_dotted=block_size*'.'+name+'.'\n",
    "        for i in range(len(name_dotted)-block_size):\n",
    "            n=[stoi[c] for c in name_dotted[i:block_size+i]]\n",
    "            X.append(n)\n",
    "            Y.append(stoi[name_dotted[i+block_size]])\n",
    "      \n",
    "    X=torch.tensor(X)\n",
    "    Y=torch.tensor(Y)\n",
    "    print(X.shape,Y.shape)\n",
    "    return X,Y\n"
   ]
  },
  {
   "cell_type": "code",
   "execution_count": 12,
   "id": "d6dd2968-3b11-44ac-8780-a640e2cb00fb",
   "metadata": {},
   "outputs": [
    {
     "name": "stdout",
     "output_type": "stream",
     "text": [
      "torch.Size([182625, 3]) torch.Size([182625])\n",
      "torch.Size([22655, 3]) torch.Size([22655])\n",
      "torch.Size([22866, 3]) torch.Size([22866])\n"
     ]
    }
   ],
   "source": [
    "# dividing the data into train/dev/test splits\n",
    "\n",
    "import random \n",
    "random.seed(42)\n",
    "random.shuffle(names)\n",
    "n1=int(0.8*len(names))\n",
    "n2=int(0.9*len(names))\n",
    "\n",
    "# block size\n",
    "block_size=3\n",
    "\n",
    "Xtr,Ytr=build_dataset(names[:n1],block_size=block_size)\n",
    "Xdev,Ydev=build_dataset(names[n1:n2],block_size=block_size)\n",
    "Xtest,Ytest=build_dataset(names[n2:],block_size=block_size)\n",
    "\n"
   ]
  },
  {
   "cell_type": "markdown",
   "id": "4f59ea2f",
   "metadata": {},
   "source": [
    "### Makemore: MLP "
   ]
  },
  {
   "cell_type": "code",
   "execution_count": 8,
   "id": "5453dffd-586c-4981-ac23-a4cfe2d8beab",
   "metadata": {},
   "outputs": [
    {
     "name": "stdout",
     "output_type": "stream",
     "text": [
      "Number of parameters:  12297\n"
     ]
    }
   ],
   "source": [
    "g=torch.Generator().manual_seed(2147483647)\n",
    "embedding_size=10\n",
    "n_hidden=200\n",
    "vocab_size=27\n",
    "\n",
    "# The embedding space using a lookup table C\n",
    "C=torch.rand((vocab_size,embedding_size),generator=g)\n",
    "#params of the first hidden layer\n",
    "W1=torch.rand((embedding_size*block_size,n_hidden),generator=g)* (5/3)/((embedding_size * block_size)**0.5) # kaiming He init\n",
    "b1=torch.rand((n_hidden),generator=g)*0.01\n",
    "#params of the second hidden layer squashed for rapid training\n",
    "W2=torch.rand((n_hidden,vocab_size),generator=g) *0.01\n",
    "b2=torch.rand((vocab_size),generator=g)*0\n",
    "\n",
    "#batch_noralization\n",
    "bngain=torch.ones((1,n_hidden))\n",
    "bnbias=torch.zeros((1,n_hidden))\n",
    "bnmean_running=torch.zeros((1,n_hidden))\n",
    "bnstd_running=torch.ones((1,n_hidden))\n",
    "\n",
    "# parameters\n",
    "parameters=[C,W1,W2,b1,b2,bngain,bnbias]\n",
    "\n",
    "# required grad\n",
    "for p in parameters:\n",
    "    p.requires_grad=True\n",
    "print(\"Number of parameters: \",sum([p.nelement() for p in parameters]))\n",
    "\n",
    "# testing different learning rate for each batch\n",
    "ls=torch.linspace(-3,0,1000)\n",
    "lr=10**ls"
   ]
  },
  {
   "cell_type": "code",
   "execution_count": 9,
   "id": "32ac5156-9cc7-4c72-b298-235e412285ab",
   "metadata": {},
   "outputs": [
    {
     "name": "stdout",
     "output_type": "stream",
     "text": [
      "      0/ 200000: 3.293981\n",
      "  10000/ 200000: 2.350360\n",
      "  20000/ 200000: 2.116238\n",
      "  30000/ 200000: 2.097283\n",
      "  40000/ 200000: 2.514101\n",
      "  50000/ 200000: 2.045030\n",
      "  60000/ 200000: 2.219434\n",
      "  70000/ 200000: 2.524164\n",
      "  80000/ 200000: 2.184029\n",
      "  90000/ 200000: 2.376915\n",
      " 100000/ 200000: 2.340783\n",
      " 110000/ 200000: 2.232875\n",
      " 120000/ 200000: 1.987611\n",
      " 130000/ 200000: 2.115477\n",
      " 140000/ 200000: 2.077897\n",
      " 150000/ 200000: 2.098880\n",
      " 160000/ 200000: 2.184152\n",
      " 170000/ 200000: 2.162163\n",
      " 180000/ 200000: 2.430000\n",
      " 190000/ 200000: 2.091774\n"
     ]
    }
   ],
   "source": [
    "batch_size=32\n",
    "max_steps=200000\n",
    "lossi=[]\n",
    "\n",
    "for i in range(max_steps):\n",
    "    # minibatch   \n",
    "    ix=torch.randint(0,Xtr.shape[0],(batch_size,))\n",
    "    # forward pass\n",
    "    emb=C[Xtr[ix]]\n",
    "    embcat=emb.view(-1,embedding_size*block_size)\n",
    "    # Linear Layer\n",
    "    hpreact=embcat @ W1 +b1\n",
    "    ##### batchNorm Layer\n",
    "    #------------------------------------------------------------\n",
    "    bnmeani=hpreact.mean(0,keepdim=True)\n",
    "    bnstdi=hpreact.std(0,keepdim=True)\n",
    "    hpreact=bngain*(hpreact-bnmeani)/bnstdi+bnbias\n",
    "    with torch.no_grad():\n",
    "        bnmean_running=0.999*bnmean_running+ 0.001*bnmeani\n",
    "        bnstd_running=0.999*bnstd_running+ 0.001*bnstdi\n",
    "    #-------------------------------------------------------------- \n",
    "    # Non-linearity\n",
    "    h=torch.tanh(hpreact)\n",
    "    logits=h@W2+b2\n",
    "    loss=F.cross_entropy(logits,Ytr[ix])\n",
    "    # backward pass \n",
    "    for p in parameters:\n",
    "        p.grad=None\n",
    "    loss.backward()\n",
    "    # parameter update \n",
    "    if i<100000: lr=0.1 # learning rate decay\n",
    "    else: lr=0.01\n",
    "    for p in parameters:\n",
    "        p.data+=-0.1*p.grad\n",
    "    if i%10000==0: # print every 10000 step the loss\n",
    "        print(f'{i:7d}/{max_steps:7d}: {loss.item():4f}')\n",
    "    lossi.append(loss.log10().item())\n",
    "#     break\n",
    "    \n",
    "    \n",
    "        \n"
   ]
  },
  {
   "cell_type": "code",
   "execution_count": 10,
   "id": "08485d80-9396-4378-9cfe-312fcc47bcb8",
   "metadata": {},
   "outputs": [
    {
     "data": {
      "image/png": "[encoded data removed]",
      "text/plain": [
       "<Figure size 640x480 with 1 Axes>"
      ]
     },
     "metadata": {},
     "output_type": "display_data"
    }
   ],
   "source": [
    "plt.hist(h.view(-1).tolist());"
   ]
  },
  {
   "cell_type": "code",
   "execution_count": 11,
   "id": "f30c8d31-3b05-456a-8899-7810615d5a2b",
   "metadata": {},
   "outputs": [
    {
     "data": {
      "image/png": "[encoded data removed]",
      "text/plain": [
       "<Figure size 640x480 with 1 Axes>"
      ]
     },
     "metadata": {},
     "output_type": "display_data"
    }
   ],
   "source": [
    "plt.hist(hpreact.view(-1).tolist());"
   ]
  },
  {
   "cell_type": "code",
   "execution_count": 12,
   "id": "07ba6543-fae2-43e8-b3d0-41579503dd27",
   "metadata": {},
   "outputs": [
    {
     "data": {
      "text/plain": [
       "<matplotlib.image.AxesImage at 0x1940b4318b0>"
      ]
     },
     "execution_count": 12,
     "metadata": {},
     "output_type": "execute_result"
    },
    {
     "data": {
      "image/png": "[encoded data removed]",
      "text/plain": [
       "<Figure size 2000x1000 with 1 Axes>"
      ]
     },
     "metadata": {},
     "output_type": "display_data"
    }
   ],
   "source": [
    "plt.figure(figsize=(20,10))\n",
    "plt.imshow(h.abs()>0.99,cmap=\"gray\",interpolation=\"nearest\")"
   ]
  },
  {
   "cell_type": "code",
   "execution_count": 13,
   "id": "c2c0e1d7-343b-4d61-a8b0-fc7775b243d1",
   "metadata": {},
   "outputs": [
    {
     "data": {
      "text/plain": [
       "[<matplotlib.lines.Line2D at 0x1940d7a5d00>]"
      ]
     },
     "execution_count": 13,
     "metadata": {},
     "output_type": "execute_result"
    },
    {
     "data": {
      "image/png": "[encoded data removed]",
      "text/plain": [
       "<Figure size 640x480 with 1 Axes>"
      ]
     },
     "metadata": {},
     "output_type": "display_data"
    }
   ],
   "source": [
    "plt.plot(range(len(lossi)),lossi)"
   ]
  },
  {
   "cell_type": "code",
   "execution_count": 14,
   "id": "e06cff37-9a67-4860-9153-ccaddff0f00c",
   "metadata": {},
   "outputs": [
    {
     "name": "stdout",
     "output_type": "stream",
     "text": [
      "train 2.1290981769561768\n",
      "dev 2.1720683574676514\n"
     ]
    }
   ],
   "source": [
    "@torch.no_grad()\n",
    "def split_loss(split):\n",
    "    x,y={\"train\":(Xtr,Ytr),\n",
    "         \"dev\":(Xdev,Ydev),\n",
    "         \"test\":(Xtest,Ytest)}[split]\n",
    "    emb=C[x]\n",
    "    embcat=emb.view(-1,embedding_size*block_size)\n",
    "    hpreact=embcat @ W1 +b1\n",
    "    hpreact=bngain*(hpreact-bnmean_running)/bnstd_running+bnbias\n",
    "    h=torch.tanh(hpreact)\n",
    "    logits=h@W2+b2\n",
    "    loss=F.cross_entropy(logits,y)\n",
    "    print(split,loss.item())\n",
    "    \n",
    "split_loss(\"train\")\n",
    "split_loss(\"dev\")\n"
   ]
  },
  {
   "cell_type": "code",
   "execution_count": 15,
   "id": "9efee4c9-bc91-45c5-b6c1-e978f015b5cb",
   "metadata": {},
   "outputs": [],
   "source": [
    "# # visualizing the embeddings\n",
    "# plt.figure(figsize=(8,8))\n",
    "# plt.scatter(C[:,0].data,C[:,1].data,s=200)\n",
    "# for i in range(C.shape[0]):\n",
    "#     plt.text(C[i,0].item(),C[i,1],itos[i],ha=\"center\",va=\"center\",color=\"white\")"
   ]
  },
  {
   "cell_type": "code",
   "execution_count": 16,
   "id": "1d00f9ab-5ea2-4ead-bc00-64cae876d958",
   "metadata": {},
   "outputs": [
    {
     "name": "stdout",
     "output_type": "stream",
     "text": [
      "jurianasiyannie.\n",
      "kalyse.\n",
      "catolon.\n",
      "makelynne.\n",
      "avyn.\n",
      "jergabri.\n",
      "jiaveonleyna.\n",
      "ryltiritwin.\n",
      "whtekarrigna.\n",
      "samailee.\n",
      "aumen.\n",
      "sivamayah.\n",
      "kirzi.\n",
      "lynnua.\n",
      "rohisten.\n",
      "elyanan.\n",
      "alebym.\n",
      "strin.\n",
      "fcosselah.\n",
      "haadmer.\n"
     ]
    }
   ],
   "source": [
    "\n",
    "for _ in range(20):\n",
    "    context=block_size*[0]\n",
    "    name=[]\n",
    "    while True:\n",
    "        emb=C[context]\n",
    "        embcat=emb.view(-1,embedding_size*block_size)\n",
    "        hpreact=embcat @ W1 +b1\n",
    "        hpreact=bngain*(hpreact-bnmean_running)/bnstd_running+bnbias\n",
    "        h=torch.tanh(hpreact)\n",
    "        logits=h@W2+b2\n",
    "        proba=F.softmax(logits,dim=1)\n",
    "        n = torch.multinomial(proba, 1, replacement=True).item()\n",
    "        name.append(itos[n])\n",
    "        context=context[1:]+[n]\n",
    "        if n==0:\n",
    "            break\n",
    "\n",
    "    print(\"\".join(name))  "
   ]
  },
  {
   "cell_type": "markdown",
   "id": "3849986a",
   "metadata": {},
   "source": [
    "# Pytorchfying makemore MLP"
   ]
  },
  {
   "cell_type": "code",
   "execution_count": 20,
   "id": "88f8fe6f",
   "metadata": {},
   "outputs": [],
   "source": [
    "# libs\n",
    "import numpy as np \n",
    "import torch \n",
    "import string\n",
    "import torch.nn.functional as F\n",
    "# import matplotlib\n",
    "# matplotlib.use('TkAgg')  # This sets the backend to TkAgg\n",
    "import matplotlib.pyplot as plt\n",
    "%matplotlib inline"
   ]
  },
  {
   "cell_type": "code",
   "execution_count": 22,
   "id": "cf60050b",
   "metadata": {},
   "outputs": [
    {
     "name": "stdout",
     "output_type": "stream",
     "text": [
      "torch.Size([182625, 8]) torch.Size([182625])\n",
      "torch.Size([22655, 8]) torch.Size([22655])\n",
      "torch.Size([22866, 8]) torch.Size([22866])\n"
     ]
    }
   ],
   "source": [
    "###### init #################\n",
    "vocab_size=27\n",
    "embedding_size=3\n",
    "n_hidden=100\n",
    "block_size=8\n",
    "\n",
    "Xtr,Ytr=build_dataset(names[:n1],block_size=block_size)\n",
    "Xdev,Ydev=build_dataset(names[n1:n2],block_size=block_size)\n",
    "Xtest,Ytest=build_dataset(names[n2:],block_size=block_size)"
   ]
  },
  {
   "cell_type": "code",
   "execution_count": 23,
   "id": "6868092a",
   "metadata": {},
   "outputs": [],
   "source": [
    "\n",
    "\n",
    "\n",
    "class Embedding:\n",
    "    \n",
    "    def __init__(self,vocab_size,embedding_size):\n",
    "        self.weights=torch.randn(vocab_size,embedding_size)\n",
    "    \n",
    "    def __call__(self,x):\n",
    "        return self.weights[x]\n",
    "        \n",
    "    def parameters(self):\n",
    "        return [self.weights]\n",
    "    \n",
    "    \n",
    "class Flatten:\n",
    "  \n",
    "    def __call__(self,x):\n",
    "        return x.view(x.shape[0],-1)\n",
    "    \n",
    "    def parameters(self):\n",
    "        return []\n",
    "  \n",
    "\n",
    "class Linear:\n",
    "    \n",
    "    def __init__(self,fan_in,fan_out,bias=True):\n",
    "        self.weights=torch.randn(fan_in,fan_out)/ fan_in**0.5\n",
    "        if bias:\n",
    "            self.bias=torch.zeros(1,fan_out) \n",
    "        \n",
    "    def __call__(self,x):\n",
    "        out=x@self.weights\n",
    "        if self.bias is not None:\n",
    "            out+=self.bias\n",
    "            \n",
    "        return out \n",
    "    \n",
    "    def parameters(self):\n",
    "        return [self.weights]+ ([] if self.bias is None else [self.bias] )\n",
    "    \n",
    "    \n",
    "     \n",
    "    \n",
    "class batchnorm1d():\n",
    "\n",
    "    def __init__(self,n_hidden,eps=1e-5, momentum=0.1):\n",
    "        self.eps=eps\n",
    "        self.momentum=momentum\n",
    "        self.bngain=torch.ones(1,n_hidden)\n",
    "        self.bnbias=torch.zeros(1,n_hidden)\n",
    "        self.running_mean=torch.zeros((1,n_hidden))\n",
    "        self.running_var=torch.ones((1,n_hidden))\n",
    "        self.training=True\n",
    "    \n",
    "    def __call__(self,x):\n",
    "        bnmeani=x.mean(0,keepdim=True)\n",
    "        bnstdi=x.std(0,keepdim=True)\n",
    "        \n",
    "        if self.training:\n",
    "            xmean=bnmeani\n",
    "            xvar=bnstdi\n",
    "        else:\n",
    "            xmean=self.running_mean\n",
    "            xvar=self.running_var\n",
    "            \n",
    "        xhat=((x-xmean)/(xvar+self.eps))    \n",
    "        hpreact=self.bngain*xhat+self.bnbias\n",
    "        \n",
    "        if self.training:\n",
    "          with torch.no_grad():\n",
    "            self.running_mean = (1 - self.momentum) * self.running_mean + self.momentum * xmean\n",
    "            self.running_var = (1 - self.momentum) * self.running_var + self.momentum * xvar\n",
    "        \n",
    "        return hpreact\n",
    "            \n",
    "    \n",
    "    def parameters(self):\n",
    "        return [self.bngain,self.bnbias]\n",
    "    \n",
    "\n",
    "\n",
    "class Tanh: \n",
    "    \n",
    "    def __call__(self,x):\n",
    "        return torch.tanh(x)\n",
    "    \n",
    "    def parameters(self):\n",
    "        return []\n",
    "        \n",
    "\n",
    "\n",
    "        \n",
    "class Sequential:\n",
    "    \n",
    "    def __init__(self,layers):\n",
    "        self.layers=layers\n",
    "    \n",
    "    def __call__(self,x):\n",
    "        \n",
    "        for layer in self.layers:\n",
    "            x=layer(x)\n",
    "            \n",
    "        return x\n",
    "    \n",
    "    def parameters(self):\n",
    "            return [param for layer in self.layers for param in layer.parameters()]\n",
    "\n",
    "            \n",
    "        \n",
    "        \n",
    "        "
   ]
  },
  {
   "cell_type": "code",
   "execution_count": 25,
   "id": "964f6905",
   "metadata": {},
   "outputs": [],
   "source": [
    "torch.manual_seed(42)\n",
    "\n",
    "x=torch.arange(18).view(-1,3)\n",
    "layers=[Embedding(vocab_size,embedding_size),\n",
    "        Flatten(),\n",
    "        Linear(block_size*embedding_size,n_hidden),\n",
    "        batchnorm1d(n_hidden),\n",
    "        Tanh(),\n",
    "        Linear(n_hidden,vocab_size)]\n",
    "\n",
    "model=Sequential(layers)\n",
    "parameters=model.parameters()\n",
    "for p in parameters:\n",
    "    p.requires_grad=True\n",
    "\n",
    "# model(x).shape"
   ]
  },
  {
   "cell_type": "code",
   "execution_count": 26,
   "id": "109d46a2",
   "metadata": {},
   "outputs": [
    {
     "name": "stdout",
     "output_type": "stream",
     "text": [
      "      0/ 200000: 3.527443\n",
      "  10000/ 200000: 2.563222\n",
      "  20000/ 200000: 2.538853\n",
      "  30000/ 200000: 2.383300\n",
      "  40000/ 200000: 2.067885\n",
      "  50000/ 200000: 2.323656\n",
      "  60000/ 200000: 2.442737\n",
      "  70000/ 200000: 2.013748\n",
      "  80000/ 200000: 1.650712\n",
      "  90000/ 200000: 2.053907\n",
      " 100000/ 200000: 1.939847\n",
      " 110000/ 200000: 2.149416\n",
      " 120000/ 200000: 2.230705\n",
      " 130000/ 200000: 2.065254\n",
      " 140000/ 200000: 2.176979\n",
      " 150000/ 200000: 2.360133\n",
      " 160000/ 200000: 2.209917\n",
      " 170000/ 200000: 2.112166\n",
      " 180000/ 200000: 2.050550\n",
      " 190000/ 200000: 2.650049\n"
     ]
    }
   ],
   "source": [
    "batch_size=32\n",
    "max_steps=200000\n",
    "lossi=[]\n",
    "\n",
    "for i in range(max_steps):\n",
    "    # minibatch   \n",
    "    ix=torch.randint(0,Xtr.shape[0],(batch_size,))\n",
    "    t=Xtr[ix]\n",
    "    # forward pass\n",
    "    logits=model(t)\n",
    "    loss=F.cross_entropy(logits,Ytr[ix])\n",
    "    # backward pass \n",
    "    for p in parameters:\n",
    "        p.grad=None\n",
    "    loss.backward()\n",
    "    # parameter update \n",
    "    if i<100000: lr=0.1 # learning rate decay\n",
    "    else: lr=0.01\n",
    "    for p in parameters:\n",
    "        p.data+=-0.1*p.grad\n",
    "    if i%10000==0: # print every 10000 step the loss\n",
    "        print(f'{i:7d}/{max_steps:7d}: {loss.item():4f}')\n",
    "    lossi.append(loss.log10().item())\n",
    "#     break\n",
    "    \n",
    "    \n",
    "        \n"
   ]
  },
  {
   "cell_type": "code",
   "execution_count": 27,
   "id": "b7822a84",
   "metadata": {},
   "outputs": [
    {
     "name": "stdout",
     "output_type": "stream",
     "text": [
      "train 2.1517550945281982\n",
      "dev 2.17020583152771\n"
     ]
    }
   ],
   "source": [
    "@torch.no_grad()\n",
    "def split_loss(split):\n",
    "    x,y={\"train\":(Xtr,Ytr),\n",
    "         \"dev\":(Xdev,Ydev),\n",
    "         \"test\":(Xtest,Ytest)}[split]\n",
    "    logits=model(x)\n",
    "    loss=F.cross_entropy(logits,y)\n",
    "    print(split,loss.item())\n",
    "    \n",
    "split_loss(\"train\")\n",
    "split_loss(\"dev\")"
   ]
  },
  {
   "cell_type": "code",
   "execution_count": 28,
   "id": "f41107e9",
   "metadata": {},
   "outputs": [],
   "source": [
    "for layer in model.layers:\n",
    "    layer.training=False"
   ]
  },
  {
   "cell_type": "code",
   "execution_count": 29,
   "id": "2b2679b8",
   "metadata": {},
   "outputs": [
    {
     "name": "stdout",
     "output_type": "stream",
     "text": [
      "aorosa.\n",
      "maee.\n",
      "sarikaban.\n",
      "magay.\n",
      "gimayle.\n",
      "bnyanne.\n",
      "kheellynn.\n",
      "jana.\n",
      "sharrielie.\n",
      "mayaya.\n",
      "khere.\n",
      "jreyco.\n",
      "phaelen.\n",
      "madeish.\n",
      "calawan.\n",
      "kaistyn.\n",
      "naxielasoi.\n",
      "dreenm.\n",
      "aaseel.\n",
      "naroba.\n"
     ]
    }
   ],
   "source": [
    "\n",
    "for _ in range(20):\n",
    "    context=[0]*block_size\n",
    "    name=[]\n",
    "    while True:\n",
    "        \n",
    "        logits=model(torch.tensor([context]))\n",
    "        proba=F.softmax(logits,dim=1)\n",
    "        n = torch.multinomial(proba, 1, replacement=True).item()\n",
    "        name.append(itos[n])\n",
    "        context=context[1:]+[n]\n",
    "        if n==0:\n",
    "            break\n",
    "\n",
    "    print(\"\".join(name))  "
   ]
  }
 ],
 "metadata": {
  "kernelspec": {
   "display_name": "Python 3 (ipykernel)",
   "language": "python",
   "name": "python3"
  },
  "language_info": {
   "codemirror_mode": {
    "name": "ipython",
    "version": 3
   },
   "file_extension": ".py",
   "mimetype": "text/x-python",
   "name": "python",
   "nbconvert_exporter": "python",
   "pygments_lexer": "ipython3",
   "version": "3.8.16"
  }
 },
 "nbformat": 4,
 "nbformat_minor": 5
}
