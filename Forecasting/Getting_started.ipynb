{
 "cells": [
  {
   "cell_type": "markdown",
   "id": "4ad3cbfb-ca6b-46e9-bc17-d7db36647d86",
   "metadata": {},
   "source": [
    "# Forecasting: principales and practice (Getting started)"
   ]
  },
  {
   "cell_type": "code",
   "execution_count": 11,
   "id": "d8867260-c647-4d6d-9011-bcaf640d1bf3",
   "metadata": {},
   "outputs": [],
   "source": [
    "from IPython.display import Image\n"
   ]
  },
  {
   "cell_type": "markdown",
   "id": "81a887a9-f89a-4c38-96eb-a454daedb54a",
   "metadata": {},
   "source": [
    "### 1. What can be forecast ?"
   ]
  },
  {
   "cell_type": "markdown",
   "id": "6c0e7f49-1386-4f03-a000-2e4762127169",
   "metadata": {},
   "source": [
    "Forecasting is required in many situations:\n",
    "- Deciding whether to build another power generation plant in the next five years requires forecasts of future demand.\n",
    "- Scheduling staff in a call centre next week requires forecasts of call volumes.\n",
    "- Stocking an inventory requires forecasts of stock requirements.\n",
    "    "
   ]
  },
  {
   "cell_type": "markdown",
   "id": "cb3c725b-499f-411a-9dc2-d012daa4e384",
   "metadata": {},
   "source": [
    "Forecasting is efficient for planning and can be used for different time-horizons:\n",
    "- Years in advance (for the case of capital investments)\n",
    "- Few minutes beforehand (for telecommunication routing)"
   ]
  },
  {
   "cell_type": "markdown",
   "id": "9c98ec24-2475-4fa1-973b-d27867efe1dc",
   "metadata": {},
   "source": [
    "The predictability of an event or a quantity depends on various factors:\n",
    "\n",
    "    1. How well we understand the factors that contribute to it. (time of sunrise vs lottery)\n",
    "    2. How much data is available.\n",
    "    3. How similar the future is to the past.\n",
    "    4. Whether the forecast impact the thing we are trying to predict.\n",
    "    "
   ]
  },
  {
   "cell_type": "markdown",
   "id": "fa17fae6-9341-4b02-9ace-51c6bffc85b9",
   "metadata": {},
   "source": [
    "For example short-term residential electricity demands can be highly accurate:\n",
    "- Electricity demand is driven largely by temperatures, with slight effect for calendar variation such as holidays and economic conditions (1) \n",
    "- Several year electricity demand data and temperature data are available.\n",
    "- For a short term prediction (few weeks) we could assume that demand in the past is similar to the future.\n",
    "- The price of electricity is not dependent on demand, and so the demand forecasts have little or no effect on consumer behaviour\n",
    "\n",
    "On the other hand, forecasting the currency exchange rate (CER) respect only one condition which is the availability of data (1). However, we have limited understanding of the factors that impacts the CER; The future may well be different from the past if there is a political or financial crisis. Forecast have direct effect on CER, if a well-publicised forecast that cer increases people behavior might change to self-fullfill the proficy. "
   ]
  },
  {
   "cell_type": "markdown",
   "id": "6eb5900e-b017-4a09-a32b-88f8c0c45af9",
   "metadata": {},
   "source": [
    "It is important to recognize if something can be forecast accurately and when forecasts are no better than a coin toss. A good forecast should capture geniune relationship that exist in historical data. It is important to note that forecast do not require an unchanging environement. "
   ]
  },
  {
   "cell_type": "markdown",
   "id": "8cf4e2f9-0172-4e1f-a99f-8d49c7f0a724",
   "metadata": {},
   "source": [
    "### 2. Forecasting, goals and planning"
   ]
  },
  {
   "cell_type": "markdown",
   "id": "a626e25c-aa25-4738-836c-d5eb27ed1f11",
   "metadata": {},
   "source": [
    "These concepts should not be confused:\n",
    "- Forecasting is predicting the future as accurately as possible given historical and future events. a company prediction an increase of sales of 5%\n",
    "- Goals what we want to happen, a company want to increase sales by 10%\n",
    "- Planning involves determining the right action to make the forecast match the goals. \n",
    "    "
   ]
  },
  {
   "cell_type": "markdown",
   "id": "1e1111af-64ba-48b5-9899-ad93a07ef86b",
   "metadata": {},
   "source": [
    "Organisations required short, medium and long term forecast for wise decision making:\n",
    "- short-term forecast: scheduling personnel, transportation and production.\n",
    "- medium-term: hire personnel, or buy machinery and equipment.\n",
    "- long-term: strategic decisions."
   ]
  },
  {
   "cell_type": "markdown",
   "id": "99b5d18d-0b7b-4821-a916-42f7c854ea21",
   "metadata": {},
   "source": [
    "### 3. Determining what to forecast"
   ]
  },
  {
   "cell_type": "markdown",
   "id": "4753bb7f-bca8-4d8f-8268-8a2d9db88afd",
   "metadata": {},
   "source": [
    "It is important to determine:\n",
    "- what to forecast (e.g a product sale). \n",
    "- The time-horizon (e.g 6 month).\n",
    "- How fequently the forecast should be made.\n",
    "- Find existing source of data.\n"
   ]
  },
  {
   "cell_type": "markdown",
   "id": "63619fea-34a9-4182-998b-210ebf8cc7b5",
   "metadata": {},
   "source": [
    "### 4. Forecasting data and methods"
   ]
  },
  {
   "cell_type": "markdown",
   "id": "5ed35e5b-aea2-444d-afb8-08a4b74f5c98",
   "metadata": {},
   "source": [
    "Forecasting methods are domain specific. Each has it own costs, accuracy and properties. In this this book the focuse will be on time series data (data collected at regular intervals over time). Sectional data (data collected at a single point in time) and irregulary spaced time series are outside the scope of this book.  \n",
    "\n",
    "1. **Qualitative forecasting** \n",
    "- Are employed When data is not available. These methods are well developed to obtain good forecast without \n",
    "historical data.\n",
    "\n",
    "\n",
    "2. **Quantitative methods** \n",
    "- Are used when past data is available and assumes that past pattern will continue to into the future.\n"
   ]
  },
  {
   "cell_type": "markdown",
   "id": "cde18d12-f787-421a-bab8-cdc6d8cd3310",
   "metadata": {},
   "source": [
    "In the **australian beer production** example, the forecast comes with a prediction interval. Future value are expected to lie in the dark shaded intervall with an 80% probability and the light shaded with 95% probability. Notice that the time series is seasonal (repeated pattern over time) this feature could be exploited in methods such as ARIMA or exponential smoothing."
   ]
  },
  {
   "cell_type": "markdown",
   "id": "dbff2bb2-dc2e-4c8b-bd15-7f476153ff50",
   "metadata": {},
   "source": [
    "<img src=\"beer.png\" alt=\"Beer Image\" width=\"700\" height=\"100\"/>\n"
   ]
  },
  {
   "cell_type": "markdown",
   "id": "35ddd165-494b-46b9-a7ac-c965e433835e",
   "metadata": {},
   "source": [
    "#### 4.1 Predictors variables and time series forecasting"
   ]
  },
  {
   "cell_type": "markdown",
   "id": "eedf5822-4ed7-47c3-96f3-51747904b27f",
   "metadata": {},
   "source": [
    "Explanatory models aim to understand relationships between variables, revealing underlying processes or mechanisms, and are often evaluated based on parameter interpretability and alignment with known theories. In contrast, predictive models prioritize forecasting outcomes for new, unseen data, emphasizing prediction accuracy and generalizability, often employing techniques to prevent overfitting. While explanatory models delve into the \"why\" behind data relationships, predictive models focus on the \"what's next,\" each serving distinct objectives in data analysis."
   ]
  },
  {
   "cell_type": "markdown",
   "id": "0d7fe26d-0e42-4b89-9d40-d58297d93e36",
   "metadata": {},
   "source": [
    "For elictricity demand, predictors could be temperature or the economy. Uding explanatory models could help us understand how variables relates to each others and select important one for predictive modeling."
   ]
  },
  {
   "cell_type": "markdown",
   "id": "0b049732-16f0-4f3d-968c-dd3037d0defa",
   "metadata": {},
   "source": [
    "- ED=f(current temperature, strength of economy, population,time of day, day of week, error),  **Explanatory model**\n",
    "- EDt+1=f(EDt,EDt−1,EDt−2,EDt−3,…,error), **Time series model**\n",
    "- EDt+1=f(EDt,current temperature, time of day, day of week, error ), **Mixed models**\n"
   ]
  },
  {
   "cell_type": "markdown",
   "id": "08dd3de5-594a-4733-b43d-923fc39a4080",
   "metadata": {},
   "source": [
    "There are several reasons a forecaster might select a time series model rather than an explanatory or mixed model:\n",
    "1. The system may not be understood, and even if it was understood it may be extremely difficult to measure the relationships that are assumed to govern its behaviour.\n",
    "2.  It is necessary to know or forecast the future values of the _various predictors_ in order to be able to forecast the variable of interest, and this may be too difficult.\n",
    "3. The main concern may be only to predict what will happen, not to know why it happens.\n",
    "4. The time series model may give more accurate forecasts than an explanatory or mixed model."
   ]
  },
  {
   "cell_type": "markdown",
   "id": "f2021fba-0507-47f4-a056-77a84a18dbe1",
   "metadata": {},
   "source": [
    "### 6.The basic steps in a forecasting task\n"
   ]
  },
  {
   "cell_type": "markdown",
   "id": "66d5feba-58f9-4a80-ad3b-34b603b2e0c3",
   "metadata": {},
   "source": [
    "1. **Problem definition** this step involves:\n",
    "- Understanding the way the forecast will be used.\n",
    "- Who requires the forecast.\n",
    "- How the forecast fits withing the organisation that requiring the forecast."
   ]
  },
  {
   "cell_type": "markdown",
   "id": "9c7e2a71-9920-4307-89d4-d5391b6e9f39",
   "metadata": {},
   "source": [
    "2. **Gathering information** involves collecting two types of data:\n",
    "    - Statistical data \n",
    "    - Accumalted expertise of people that collect and understand data."
   ]
  },
  {
   "cell_type": "markdown",
   "id": "6e9d1876-e0a8-4765-8805-037750ac280b",
   "metadata": {},
   "source": [
    "3. **Exploratory analysis** involves:\n",
    "- Finding relationships between data\n",
    "- Plotting and finding anomalies, trend seasonality, business cycles and trends.\n",
    "\n"
   ]
  },
  {
   "cell_type": "markdown",
   "id": "3dcff42d-3aa8-4019-9235-02730c944b61",
   "metadata": {},
   "source": [
    "4. **Choosing and fitting models** models have assumption and limitations that should be taken into consideration and involves parameters to be fitted therefore depends on the availability of data. The models studied in this book are mainly:\n",
    "- Regression models\n",
    "- Exponential smothing.\n",
    "- Box-jenkins ARIMA models.\n",
    "- Dynamic regression models.\n",
    "- Hierarchical forecasting.\n",
    "- Advanced methods: Neural networks and vector-autoregression.\n"
   ]
  },
  {
   "cell_type": "markdown",
   "id": "d46a44c0-0289-4895-832c-79b5e571cc15",
   "metadata": {},
   "source": [
    "5. **Using and evaluating a forecasting model** once a model is trained and its parameters estimated, it could be used on future available data to test its accuracy. Different methods are proposed to evaluated the accuracy of forecast are discuused in subsequent lectures."
   ]
  }
 ],
 "metadata": {
  "kernelspec": {
   "display_name": "Python 3 (ipykernel)",
   "language": "python",
   "name": "python3"
  },
  "language_info": {
   "codemirror_mode": {
    "name": "ipython",
    "version": 3
   },
   "file_extension": ".py",
   "mimetype": "text/x-python",
   "name": "python",
   "nbconvert_exporter": "python",
   "pygments_lexer": "ipython3",
   "version": "3.8.16"
  }
 },
 "nbformat": 4,
 "nbformat_minor": 5
}
